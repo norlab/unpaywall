{
 "cells": [
  {
   "cell_type": "code",
   "execution_count": null,
   "metadata": {
    "collapsed": false
   },
   "outputs": [],
   "source": [
    "%%bash\n",
    "\n",
    "head 2017.04.21_full.txt"
   ]
  },
  {
   "cell_type": "code",
   "execution_count": 1,
   "metadata": {
    "collapsed": true
   },
   "outputs": [],
   "source": [
    "# required packages\n",
    "import pandas as pd\n",
    "import numpy as np\n",
    "import time\n",
    "import seaborn as sns\n",
    "import matplotlib.pyplot as plt\n",
    "import re\n",
    "from collections import Counter\n",
    "import csv\n",
    "%matplotlib inline"
   ]
  },
  {
   "cell_type": "code",
   "execution_count": 2,
   "metadata": {
    "collapsed": false
   },
   "outputs": [
    {
     "name": "stderr",
     "output_type": "stream",
     "text": [
      "b'Skipping line 28200107: expected 13 fields, saw 15\\nSkipping line 28200152: expected 13 fields, saw 15\\n'\n",
      "b'Skipping line 31658316: expected 13 fields, saw 15\\nSkipping line 31665029: expected 13 fields, saw 15\\nSkipping line 31684400: expected 13 fields, saw 15\\nSkipping line 31685576: expected 13 fields, saw 15\\nSkipping line 31685907: expected 13 fields, saw 15\\nSkipping line 31686836: expected 13 fields, saw 15\\n'\n",
      "b'Skipping line 63783551: expected 13 fields, saw 15\\nSkipping line 63795360: expected 13 fields, saw 15\\nSkipping line 63799359: expected 13 fields, saw 15\\n'\n",
      "b'Skipping line 63984594: expected 13 fields, saw 15\\n'\n",
      "b'Skipping line 72349111: expected 13 fields, saw 18\\n'\n",
      "b'Skipping line 72359921: expected 13 fields, saw 15\\n'\n",
      "b'Skipping line 80903926: expected 13 fields, saw 15\\n'\n",
      "b'Skipping line 81462828: expected 13 fields, saw 15\\n'\n",
      "<string>:2: DtypeWarning: Columns (2,3,8,10,12) have mixed types. Specify dtype option on import or set low_memory=False.\n"
     ]
    },
    {
     "name": "stdout",
     "output_type": "stream",
     "text": [
      "CPU times: user 8min 15s, sys: 55 s, total: 9min 10s\n",
      "Wall time: 13min 37s\n"
     ]
    }
   ],
   "source": [
    "%%time\n",
    "#Read in txt file (already downloaded and unzipped)\n",
    "UPW_df2 = pd.read_table('2017.04.21_full.txt', sep='\\t', header=None, error_bad_lines=False, warn_bad_lines=True)"
   ]
  },
  {
   "cell_type": "code",
   "execution_count": 3,
   "metadata": {
    "collapsed": true
   },
   "outputs": [],
   "source": [
    "# Add column names\n",
    "UPW_df2.columns = ['doi', 'evidence', 'best_open_url', 'license', 'oa_color', 'open_urls', 'year', 'title', \n",
    "                 'authors', 'publication_type', 'journal', 'publisher', 'subjects']"
   ]
  },
  {
   "cell_type": "code",
   "execution_count": null,
   "metadata": {
    "collapsed": false
   },
   "outputs": [],
   "source": [
    "%%time\n",
    "\n",
    "# Start building a smaller df to use for testing\n",
    "UPWsample2 = UPW_df[['doi','evidence', 'open_level','year', 'publication_type','journal', 'publisher', 'subjects']]\n",
    "\n",
    "# Sample will only use data from 1950 to 2017\n",
    "UPWsample2 = UPWsample2[(UPWsample2.year > 1949) & (UPWsample2.year < 2018)]\n",
    "\n",
    "# Take a fraction of the full df for the sample\n",
    "UPWsample2 = UPWsample2.sample(frac=0.005)\n",
    "\n",
    "# Reset the index on the sample df\n",
    "UPWsample2.reset_index(inplace=True)"
   ]
  },
  {
   "cell_type": "code",
   "execution_count": null,
   "metadata": {
    "collapsed": false
   },
   "outputs": [],
   "source": [
    "UPWsample2.shape"
   ]
  },
  {
   "cell_type": "code",
   "execution_count": null,
   "metadata": {
    "collapsed": true
   },
   "outputs": [],
   "source": [
    "# Save the sample df\n",
    "UPWsample2.to_csv('UPWsample2.txt', sep='\\t')"
   ]
  },
  {
   "cell_type": "code",
   "execution_count": null,
   "metadata": {
    "collapsed": false
   },
   "outputs": [],
   "source": [
    "!aws s3 cp UPWsample.txt s3://norlab-unpaywall/UPWsample.txt"
   ]
  },
  {
   "cell_type": "code",
   "execution_count": null,
   "metadata": {
    "collapsed": false
   },
   "outputs": [],
   "source": [
    "!aws s3 cp UnpaywallEDA.ipynb s3://norlab-unpaywall/UnpaywallEDA.ipynb"
   ]
  },
  {
   "cell_type": "code",
   "execution_count": 4,
   "metadata": {
    "collapsed": false
   },
   "outputs": [
    {
     "data": {
      "text/plain": [
       "doi                 87751249\n",
       "evidence            87721008\n",
       "best_open_url       14391690\n",
       "license              3970796\n",
       "oa_color            87751249\n",
       "open_urls           87403822\n",
       "year                79115827\n",
       "title               83950885\n",
       "authors             72064740\n",
       "publication_type    87750462\n",
       "journal             83425669\n",
       "publisher           87697351\n",
       "subjects            50276277\n",
       "dtype: int64"
      ]
     },
     "execution_count": 4,
     "metadata": {},
     "output_type": "execute_result"
    }
   ],
   "source": [
    "# Full df exploration\n",
    "UPW_df2.count()"
   ]
  },
  {
   "cell_type": "code",
   "execution_count": 5,
   "metadata": {
    "collapsed": false
   },
   "outputs": [
    {
     "name": "stderr",
     "output_type": "stream",
     "text": [
      "/home/ubuntu/anaconda3/lib/python3.6/site-packages/matplotlib/font_manager.py:1297: UserWarning: findfont: Font family ['sans-serif'] not found. Falling back to DejaVu Sans\n",
      "  (prop.get_family(), self.defaultFamily[fontext]))\n"
     ]
    },
    {
     "data": {
      "image/png": "[encoded data removed]",
      "text/plain": [
       "<matplotlib.figure.Figure at 0x7f4e5e61b908>"
      ]
     },
     "metadata": {},
     "output_type": "display_data"
    }
   ],
   "source": [
    "# Full df plot count of DOIS by year between 1950 - 2017\n",
    "plt.figure(figsize=(16, 10))\n",
    "plt.hist(UPW_df2['year'].dropna(), bins=np.arange(min(UPW_df2['year'].dropna()), max(UPW_df2['year'].dropna()) + 1, 1))\n",
    "\n",
    "plt.xticks(np.arange(min(UPW_df2['year'].dropna()), max(UPW_df2['year'].dropna()) + 1, 1), rotation='vertical')\n",
    "\n",
    "plt.xlim(1950,2017)\n",
    "#plt.savefig('CountDOIS2_1950to2017.png')\n",
    "plt.show()"
   ]
  },
  {
   "cell_type": "code",
   "execution_count": null,
   "metadata": {
    "collapsed": false
   },
   "outputs": [],
   "source": [
    "!aws s3 cp CountDOIS_1950to2017.png s3://norlab-unpaywall/CountDOIS_1950to2017.png"
   ]
  },
  {
   "cell_type": "code",
   "execution_count": null,
   "metadata": {
    "collapsed": false
   },
   "outputs": [],
   "source": [
    "UPWsample2.groupby(['year', 'oa_color']).agg('count')"
   ]
  },
  {
   "cell_type": "code",
   "execution_count": null,
   "metadata": {
    "collapsed": false
   },
   "outputs": [],
   "source": [
    "# Check to see how open_level correlates with evidence in sample df\n",
    "UPWsample2.groupby(['evidence', 'oa_color']).agg('count')"
   ]
  },
  {
   "cell_type": "code",
   "execution_count": 6,
   "metadata": {
    "collapsed": false
   },
   "outputs": [],
   "source": [
    "# Check to see how open_level correlates with evidence in full df\n",
    "# This is a check on the assumption that closed journals = black\n",
    "EvidenceOpenLevelAgg2_df = UPW_df2.groupby(['evidence', 'oa_color']).agg('count')"
   ]
  },
  {
   "cell_type": "code",
   "execution_count": 7,
   "metadata": {
    "collapsed": false
   },
   "outputs": [
    {
     "data": {
      "text/html": [
       "<div>\n",
       "<table border=\"1\" class=\"dataframe\">\n",
       "  <thead>\n",
       "    <tr style=\"text-align: right;\">\n",
       "      <th></th>\n",
       "      <th></th>\n",
       "      <th>doi</th>\n",
       "      <th>best_open_url</th>\n",
       "      <th>license</th>\n",
       "      <th>open_urls</th>\n",
       "      <th>year</th>\n",
       "      <th>title</th>\n",
       "      <th>authors</th>\n",
       "      <th>publication_type</th>\n",
       "      <th>journal</th>\n",
       "      <th>publisher</th>\n",
       "      <th>subjects</th>\n",
       "    </tr>\n",
       "    <tr>\n",
       "      <th>evidence</th>\n",
       "      <th>oa_color</th>\n",
       "      <th></th>\n",
       "      <th></th>\n",
       "      <th></th>\n",
       "      <th></th>\n",
       "      <th></th>\n",
       "      <th></th>\n",
       "      <th></th>\n",
       "      <th></th>\n",
       "      <th></th>\n",
       "      <th></th>\n",
       "      <th></th>\n",
       "    </tr>\n",
       "  </thead>\n",
       "  <tbody>\n",
       "    <tr>\n",
       "      <th>closed</th>\n",
       "      <th>black</th>\n",
       "      <td>73329316</td>\n",
       "      <td>0</td>\n",
       "      <td>0</td>\n",
       "      <td>73056374</td>\n",
       "      <td>67031333</td>\n",
       "      <td>71588290</td>\n",
       "      <td>60582277</td>\n",
       "      <td>73328551</td>\n",
       "      <td>71255787</td>\n",
       "      <td>73291699</td>\n",
       "      <td>42131525</td>\n",
       "    </tr>\n",
       "    <tr>\n",
       "      <th>hybrid journal (via crossref license)</th>\n",
       "      <th>gold</th>\n",
       "      <td>1161623</td>\n",
       "      <td>1161623</td>\n",
       "      <td>558746</td>\n",
       "      <td>1161623</td>\n",
       "      <td>1161586</td>\n",
       "      <td>1161402</td>\n",
       "      <td>1097049</td>\n",
       "      <td>1161623</td>\n",
       "      <td>1161507</td>\n",
       "      <td>1158175</td>\n",
       "      <td>846375</td>\n",
       "    </tr>\n",
       "    <tr>\n",
       "      <th>hybrid manual</th>\n",
       "      <th>gold</th>\n",
       "      <td>1</td>\n",
       "      <td>1</td>\n",
       "      <td>0</td>\n",
       "      <td>1</td>\n",
       "      <td>1</td>\n",
       "      <td>1</td>\n",
       "      <td>1</td>\n",
       "      <td>1</td>\n",
       "      <td>1</td>\n",
       "      <td>1</td>\n",
       "      <td>1</td>\n",
       "    </tr>\n",
       "    <tr>\n",
       "      <th rowspan=\"2\" valign=\"top\">manual</th>\n",
       "      <th>black</th>\n",
       "      <td>2</td>\n",
       "      <td>0</td>\n",
       "      <td>0</td>\n",
       "      <td>2</td>\n",
       "      <td>2</td>\n",
       "      <td>2</td>\n",
       "      <td>2</td>\n",
       "      <td>2</td>\n",
       "      <td>2</td>\n",
       "      <td>2</td>\n",
       "      <td>2</td>\n",
       "    </tr>\n",
       "    <tr>\n",
       "      <th>green</th>\n",
       "      <td>7</td>\n",
       "      <td>7</td>\n",
       "      <td>0</td>\n",
       "      <td>7</td>\n",
       "      <td>7</td>\n",
       "      <td>7</td>\n",
       "      <td>7</td>\n",
       "      <td>7</td>\n",
       "      <td>6</td>\n",
       "      <td>7</td>\n",
       "      <td>6</td>\n",
       "    </tr>\n",
       "    <tr>\n",
       "      <th>oa journal (via journal title in doaj)</th>\n",
       "      <th>gold</th>\n",
       "      <td>2961432</td>\n",
       "      <td>2961432</td>\n",
       "      <td>2541699</td>\n",
       "      <td>2942740</td>\n",
       "      <td>2957736</td>\n",
       "      <td>2903115</td>\n",
       "      <td>2837261</td>\n",
       "      <td>2961432</td>\n",
       "      <td>2961431</td>\n",
       "      <td>2958162</td>\n",
       "      <td>1674512</td>\n",
       "    </tr>\n",
       "    <tr>\n",
       "      <th>oa journal (via publisher name)</th>\n",
       "      <th>gold</th>\n",
       "      <td>1975915</td>\n",
       "      <td>1975915</td>\n",
       "      <td>4871</td>\n",
       "      <td>1962372</td>\n",
       "      <td>5822</td>\n",
       "      <td>5823</td>\n",
       "      <td>5271</td>\n",
       "      <td>1975915</td>\n",
       "      <td>5829</td>\n",
       "      <td>1975915</td>\n",
       "      <td>5139</td>\n",
       "    </tr>\n",
       "    <tr>\n",
       "      <th rowspan=\"2\" valign=\"top\">oa repository (via BASE doi match)</th>\n",
       "      <th>gold</th>\n",
       "      <td>18324</td>\n",
       "      <td>18324</td>\n",
       "      <td>11361</td>\n",
       "      <td>18324</td>\n",
       "      <td>18276</td>\n",
       "      <td>18324</td>\n",
       "      <td>18311</td>\n",
       "      <td>18324</td>\n",
       "      <td>73</td>\n",
       "      <td>18324</td>\n",
       "      <td>12</td>\n",
       "    </tr>\n",
       "    <tr>\n",
       "      <th>green</th>\n",
       "      <td>1470166</td>\n",
       "      <td>1470166</td>\n",
       "      <td>56222</td>\n",
       "      <td>1469989</td>\n",
       "      <td>1465298</td>\n",
       "      <td>1462390</td>\n",
       "      <td>1286948</td>\n",
       "      <td>1470160</td>\n",
       "      <td>1466969</td>\n",
       "      <td>1470072</td>\n",
       "      <td>1071818</td>\n",
       "    </tr>\n",
       "    <tr>\n",
       "      <th rowspan=\"2\" valign=\"top\">oa repository (via BASE title and first author match)</th>\n",
       "      <th>gold</th>\n",
       "      <td>1680</td>\n",
       "      <td>1680</td>\n",
       "      <td>315</td>\n",
       "      <td>1680</td>\n",
       "      <td>1453</td>\n",
       "      <td>1680</td>\n",
       "      <td>1680</td>\n",
       "      <td>1680</td>\n",
       "      <td>1680</td>\n",
       "      <td>1680</td>\n",
       "      <td>1039</td>\n",
       "    </tr>\n",
       "    <tr>\n",
       "      <th>green</th>\n",
       "      <td>4430645</td>\n",
       "      <td>4430645</td>\n",
       "      <td>491515</td>\n",
       "      <td>4430645</td>\n",
       "      <td>4181179</td>\n",
       "      <td>4430645</td>\n",
       "      <td>4430645</td>\n",
       "      <td>4430641</td>\n",
       "      <td>4232921</td>\n",
       "      <td>4421766</td>\n",
       "      <td>2694186</td>\n",
       "    </tr>\n",
       "    <tr>\n",
       "      <th rowspan=\"2\" valign=\"top\">oa repository (via BASE title match)</th>\n",
       "      <th>gold</th>\n",
       "      <td>1387</td>\n",
       "      <td>1387</td>\n",
       "      <td>789</td>\n",
       "      <td>1387</td>\n",
       "      <td>1045</td>\n",
       "      <td>1387</td>\n",
       "      <td>956</td>\n",
       "      <td>1387</td>\n",
       "      <td>504</td>\n",
       "      <td>1387</td>\n",
       "      <td>106</td>\n",
       "    </tr>\n",
       "    <tr>\n",
       "      <th>green</th>\n",
       "      <td>778415</td>\n",
       "      <td>778415</td>\n",
       "      <td>128857</td>\n",
       "      <td>768434</td>\n",
       "      <td>720608</td>\n",
       "      <td>778415</td>\n",
       "      <td>235012</td>\n",
       "      <td>778403</td>\n",
       "      <td>720586</td>\n",
       "      <td>778265</td>\n",
       "      <td>463178</td>\n",
       "    </tr>\n",
       "    <tr>\n",
       "      <th>oa repository (via datacite prefix)</th>\n",
       "      <th>gold</th>\n",
       "      <td>66840</td>\n",
       "      <td>66840</td>\n",
       "      <td>1240</td>\n",
       "      <td>66634</td>\n",
       "      <td>47792</td>\n",
       "      <td>64002</td>\n",
       "      <td>53295</td>\n",
       "      <td>66840</td>\n",
       "      <td>64234</td>\n",
       "      <td>66840</td>\n",
       "      <td>35688</td>\n",
       "    </tr>\n",
       "    <tr>\n",
       "      <th>oa repository (via doi prefix)</th>\n",
       "      <th>gold</th>\n",
       "      <td>6419</td>\n",
       "      <td>6419</td>\n",
       "      <td>3047</td>\n",
       "      <td>6399</td>\n",
       "      <td>5418</td>\n",
       "      <td>6412</td>\n",
       "      <td>6077</td>\n",
       "      <td>6419</td>\n",
       "      <td>6171</td>\n",
       "      <td>6419</td>\n",
       "      <td>0</td>\n",
       "    </tr>\n",
       "    <tr>\n",
       "      <th rowspan=\"2\" valign=\"top\">oa repository (via pmcid lookup)</th>\n",
       "      <th>gold</th>\n",
       "      <td>1143</td>\n",
       "      <td>1143</td>\n",
       "      <td>407</td>\n",
       "      <td>1143</td>\n",
       "      <td>1143</td>\n",
       "      <td>1143</td>\n",
       "      <td>1143</td>\n",
       "      <td>1143</td>\n",
       "      <td>838</td>\n",
       "      <td>1143</td>\n",
       "      <td>317</td>\n",
       "    </tr>\n",
       "    <tr>\n",
       "      <th>green</th>\n",
       "      <td>1517693</td>\n",
       "      <td>1517693</td>\n",
       "      <td>171727</td>\n",
       "      <td>1516068</td>\n",
       "      <td>1517128</td>\n",
       "      <td>1510123</td>\n",
       "      <td>1491996</td>\n",
       "      <td>1517693</td>\n",
       "      <td>1517286</td>\n",
       "      <td>1517689</td>\n",
       "      <td>1331750</td>\n",
       "    </tr>\n",
       "  </tbody>\n",
       "</table>\n",
       "</div>"
      ],
      "text/plain": [
       "                                                                  doi  \\\n",
       "evidence                                           oa_color             \n",
       "closed                                             black     73329316   \n",
       "hybrid journal (via crossref license)              gold       1161623   \n",
       "hybrid manual                                      gold             1   \n",
       "manual                                             black            2   \n",
       "                                                   green            7   \n",
       "oa journal (via journal title in doaj)             gold       2961432   \n",
       "oa journal (via publisher name)                    gold       1975915   \n",
       "oa repository (via BASE doi match)                 gold         18324   \n",
       "                                                   green      1470166   \n",
       "oa repository (via BASE title and first author ... gold          1680   \n",
       "                                                   green      4430645   \n",
       "oa repository (via BASE title match)               gold          1387   \n",
       "                                                   green       778415   \n",
       "oa repository (via datacite prefix)                gold         66840   \n",
       "oa repository (via doi prefix)                     gold          6419   \n",
       "oa repository (via pmcid lookup)                   gold          1143   \n",
       "                                                   green      1517693   \n",
       "\n",
       "                                                             best_open_url  \\\n",
       "evidence                                           oa_color                  \n",
       "closed                                             black                 0   \n",
       "hybrid journal (via crossref license)              gold            1161623   \n",
       "hybrid manual                                      gold                  1   \n",
       "manual                                             black                 0   \n",
       "                                                   green                 7   \n",
       "oa journal (via journal title in doaj)             gold            2961432   \n",
       "oa journal (via publisher name)                    gold            1975915   \n",
       "oa repository (via BASE doi match)                 gold              18324   \n",
       "                                                   green           1470166   \n",
       "oa repository (via BASE title and first author ... gold               1680   \n",
       "                                                   green           4430645   \n",
       "oa repository (via BASE title match)               gold               1387   \n",
       "                                                   green            778415   \n",
       "oa repository (via datacite prefix)                gold              66840   \n",
       "oa repository (via doi prefix)                     gold               6419   \n",
       "oa repository (via pmcid lookup)                   gold               1143   \n",
       "                                                   green           1517693   \n",
       "\n",
       "                                                             license  \\\n",
       "evidence                                           oa_color            \n",
       "closed                                             black           0   \n",
       "hybrid journal (via crossref license)              gold       558746   \n",
       "hybrid manual                                      gold            0   \n",
       "manual                                             black           0   \n",
       "                                                   green           0   \n",
       "oa journal (via journal title in doaj)             gold      2541699   \n",
       "oa journal (via publisher name)                    gold         4871   \n",
       "oa repository (via BASE doi match)                 gold        11361   \n",
       "                                                   green       56222   \n",
       "oa repository (via BASE title and first author ... gold          315   \n",
       "                                                   green      491515   \n",
       "oa repository (via BASE title match)               gold          789   \n",
       "                                                   green      128857   \n",
       "oa repository (via datacite prefix)                gold         1240   \n",
       "oa repository (via doi prefix)                     gold         3047   \n",
       "oa repository (via pmcid lookup)                   gold          407   \n",
       "                                                   green      171727   \n",
       "\n",
       "                                                             open_urls  \\\n",
       "evidence                                           oa_color              \n",
       "closed                                             black      73056374   \n",
       "hybrid journal (via crossref license)              gold        1161623   \n",
       "hybrid manual                                      gold              1   \n",
       "manual                                             black             2   \n",
       "                                                   green             7   \n",
       "oa journal (via journal title in doaj)             gold        2942740   \n",
       "oa journal (via publisher name)                    gold        1962372   \n",
       "oa repository (via BASE doi match)                 gold          18324   \n",
       "                                                   green       1469989   \n",
       "oa repository (via BASE title and first author ... gold           1680   \n",
       "                                                   green       4430645   \n",
       "oa repository (via BASE title match)               gold           1387   \n",
       "                                                   green        768434   \n",
       "oa repository (via datacite prefix)                gold          66634   \n",
       "oa repository (via doi prefix)                     gold           6399   \n",
       "oa repository (via pmcid lookup)                   gold           1143   \n",
       "                                                   green       1516068   \n",
       "\n",
       "                                                                 year  \\\n",
       "evidence                                           oa_color             \n",
       "closed                                             black     67031333   \n",
       "hybrid journal (via crossref license)              gold       1161586   \n",
       "hybrid manual                                      gold             1   \n",
       "manual                                             black            2   \n",
       "                                                   green            7   \n",
       "oa journal (via journal title in doaj)             gold       2957736   \n",
       "oa journal (via publisher name)                    gold          5822   \n",
       "oa repository (via BASE doi match)                 gold         18276   \n",
       "                                                   green      1465298   \n",
       "oa repository (via BASE title and first author ... gold          1453   \n",
       "                                                   green      4181179   \n",
       "oa repository (via BASE title match)               gold          1045   \n",
       "                                                   green       720608   \n",
       "oa repository (via datacite prefix)                gold         47792   \n",
       "oa repository (via doi prefix)                     gold          5418   \n",
       "oa repository (via pmcid lookup)                   gold          1143   \n",
       "                                                   green      1517128   \n",
       "\n",
       "                                                                title  \\\n",
       "evidence                                           oa_color             \n",
       "closed                                             black     71588290   \n",
       "hybrid journal (via crossref license)              gold       1161402   \n",
       "hybrid manual                                      gold             1   \n",
       "manual                                             black            2   \n",
       "                                                   green            7   \n",
       "oa journal (via journal title in doaj)             gold       2903115   \n",
       "oa journal (via publisher name)                    gold          5823   \n",
       "oa repository (via BASE doi match)                 gold         18324   \n",
       "                                                   green      1462390   \n",
       "oa repository (via BASE title and first author ... gold          1680   \n",
       "                                                   green      4430645   \n",
       "oa repository (via BASE title match)               gold          1387   \n",
       "                                                   green       778415   \n",
       "oa repository (via datacite prefix)                gold         64002   \n",
       "oa repository (via doi prefix)                     gold          6412   \n",
       "oa repository (via pmcid lookup)                   gold          1143   \n",
       "                                                   green      1510123   \n",
       "\n",
       "                                                              authors  \\\n",
       "evidence                                           oa_color             \n",
       "closed                                             black     60582277   \n",
       "hybrid journal (via crossref license)              gold       1097049   \n",
       "hybrid manual                                      gold             1   \n",
       "manual                                             black            2   \n",
       "                                                   green            7   \n",
       "oa journal (via journal title in doaj)             gold       2837261   \n",
       "oa journal (via publisher name)                    gold          5271   \n",
       "oa repository (via BASE doi match)                 gold         18311   \n",
       "                                                   green      1286948   \n",
       "oa repository (via BASE title and first author ... gold          1680   \n",
       "                                                   green      4430645   \n",
       "oa repository (via BASE title match)               gold           956   \n",
       "                                                   green       235012   \n",
       "oa repository (via datacite prefix)                gold         53295   \n",
       "oa repository (via doi prefix)                     gold          6077   \n",
       "oa repository (via pmcid lookup)                   gold          1143   \n",
       "                                                   green      1491996   \n",
       "\n",
       "                                                             publication_type  \\\n",
       "evidence                                           oa_color                     \n",
       "closed                                             black             73328551   \n",
       "hybrid journal (via crossref license)              gold               1161623   \n",
       "hybrid manual                                      gold                     1   \n",
       "manual                                             black                    2   \n",
       "                                                   green                    7   \n",
       "oa journal (via journal title in doaj)             gold               2961432   \n",
       "oa journal (via publisher name)                    gold               1975915   \n",
       "oa repository (via BASE doi match)                 gold                 18324   \n",
       "                                                   green              1470160   \n",
       "oa repository (via BASE title and first author ... gold                  1680   \n",
       "                                                   green              4430641   \n",
       "oa repository (via BASE title match)               gold                  1387   \n",
       "                                                   green               778403   \n",
       "oa repository (via datacite prefix)                gold                 66840   \n",
       "oa repository (via doi prefix)                     gold                  6419   \n",
       "oa repository (via pmcid lookup)                   gold                  1143   \n",
       "                                                   green              1517693   \n",
       "\n",
       "                                                              journal  \\\n",
       "evidence                                           oa_color             \n",
       "closed                                             black     71255787   \n",
       "hybrid journal (via crossref license)              gold       1161507   \n",
       "hybrid manual                                      gold             1   \n",
       "manual                                             black            2   \n",
       "                                                   green            6   \n",
       "oa journal (via journal title in doaj)             gold       2961431   \n",
       "oa journal (via publisher name)                    gold          5829   \n",
       "oa repository (via BASE doi match)                 gold            73   \n",
       "                                                   green      1466969   \n",
       "oa repository (via BASE title and first author ... gold          1680   \n",
       "                                                   green      4232921   \n",
       "oa repository (via BASE title match)               gold           504   \n",
       "                                                   green       720586   \n",
       "oa repository (via datacite prefix)                gold         64234   \n",
       "oa repository (via doi prefix)                     gold          6171   \n",
       "oa repository (via pmcid lookup)                   gold           838   \n",
       "                                                   green      1517286   \n",
       "\n",
       "                                                             publisher  \\\n",
       "evidence                                           oa_color              \n",
       "closed                                             black      73291699   \n",
       "hybrid journal (via crossref license)              gold        1158175   \n",
       "hybrid manual                                      gold              1   \n",
       "manual                                             black             2   \n",
       "                                                   green             7   \n",
       "oa journal (via journal title in doaj)             gold        2958162   \n",
       "oa journal (via publisher name)                    gold        1975915   \n",
       "oa repository (via BASE doi match)                 gold          18324   \n",
       "                                                   green       1470072   \n",
       "oa repository (via BASE title and first author ... gold           1680   \n",
       "                                                   green       4421766   \n",
       "oa repository (via BASE title match)               gold           1387   \n",
       "                                                   green        778265   \n",
       "oa repository (via datacite prefix)                gold          66840   \n",
       "oa repository (via doi prefix)                     gold           6419   \n",
       "oa repository (via pmcid lookup)                   gold           1143   \n",
       "                                                   green       1517689   \n",
       "\n",
       "                                                             subjects  \n",
       "evidence                                           oa_color            \n",
       "closed                                             black     42131525  \n",
       "hybrid journal (via crossref license)              gold        846375  \n",
       "hybrid manual                                      gold             1  \n",
       "manual                                             black            2  \n",
       "                                                   green            6  \n",
       "oa journal (via journal title in doaj)             gold       1674512  \n",
       "oa journal (via publisher name)                    gold          5139  \n",
       "oa repository (via BASE doi match)                 gold            12  \n",
       "                                                   green      1071818  \n",
       "oa repository (via BASE title and first author ... gold          1039  \n",
       "                                                   green      2694186  \n",
       "oa repository (via BASE title match)               gold           106  \n",
       "                                                   green       463178  \n",
       "oa repository (via datacite prefix)                gold         35688  \n",
       "oa repository (via doi prefix)                     gold             0  \n",
       "oa repository (via pmcid lookup)                   gold           317  \n",
       "                                                   green      1331750  "
      ]
     },
     "execution_count": 7,
     "metadata": {},
     "output_type": "execute_result"
    }
   ],
   "source": [
    "EvidenceOpenLevelAgg2_df"
   ]
  },
  {
   "cell_type": "code",
   "execution_count": null,
   "metadata": {
    "collapsed": true
   },
   "outputs": [],
   "source": [
    "EvidenceOpenLevelAgg2_df.to_csv('EvidenceOpenLevelAgg.csv')"
   ]
  },
  {
   "cell_type": "code",
   "execution_count": null,
   "metadata": {
    "collapsed": false
   },
   "outputs": [],
   "source": [
    "!aws s3 cp EvidenceOpenLevelAgg2.csv s3://norlab-unpaywall/EvidenceOpenLevelAgg2.csv"
   ]
  },
  {
   "cell_type": "code",
   "execution_count": 8,
   "metadata": {
    "collapsed": false
   },
   "outputs": [
    {
     "data": {
      "text/plain": [
       "array([    0.,  1400.,  1411.,  1425.,  1450.,  1456.,  1459.,  1469.,\n",
       "        1472.,  1477.,  1478.,  1480.,  1483.,  1486.,  1487.,  1490.,\n",
       "        1491.,  1492.,  1496.,  1497.,  1499.,  1500.,  1506.,  1508.,\n",
       "        1513.,  1515.,  1518.,  1521.,  1523.,  1524.,  1525.,  1526.,\n",
       "        1527.,  1528.,  1529.,  1530.,  1531.,  1532.,  1534.,  1535.,\n",
       "        1536.,  1540.,  1542.,  1543.,  1544.,  1545.,  1546.,  1547.,\n",
       "        1548.,  1549.,  1550.,  1551.,  1552.,  1553.,  1554.,  1555.,\n",
       "        1556.,  1557.,  1558.,  1559.,  1560.,  1561.,  1562.,  1563.,\n",
       "        1564.,  1565.,  1566.,  1567.,  1568.,  1569.,  1570.,  1571.,\n",
       "        1573.,  1574.,  1575.,  1576.,  1577.,  1578.,  1579.,  1580.,\n",
       "        1581.,  1582.,  1583.,  1584.,  1585.,  1586.,  1587.,  1588.,\n",
       "        1589.,  1590.,  1591.,  1592.,  1593.,  1594.,  1595.,  1596.,\n",
       "        1597.,  1598.,  1599.,  1600.,  1601.,  1602.,  1603.,  1604.,\n",
       "        1605.,  1606.,  1607.,  1608.,  1609.,  1610.,  1611.,  1612.,\n",
       "        1613.,  1614.,  1615.,  1616.,  1617.,  1618.,  1619.,  1620.,\n",
       "        1621.,  1622.,  1623.,  1624.,  1625.,  1626.,  1627.,  1628.,\n",
       "        1629.,  1630.,  1631.,  1632.,  1633.,  1634.,  1635.,  1636.,\n",
       "        1637.,  1638.,  1639.,  1640.,  1641.,  1642.,  1643.,  1644.,\n",
       "        1645.,  1646.,  1647.,  1648.,  1649.,  1650.,  1651.,  1652.,\n",
       "        1653.,  1654.,  1655.,  1656.,  1657.,  1658.,  1659.,  1660.,\n",
       "        1661.,  1662.,  1663.,  1664.,  1665.,  1666.,  1667.,  1668.,\n",
       "        1669.,  1670.,  1671.,  1672.,  1673.,  1674.,  1675.,  1676.,\n",
       "        1677.,  1678.,  1679.,  1680.,  1681.,  1682.,  1683.,  1684.,\n",
       "        1685.,  1686.,  1687.,  1688.,  1689.,  1690.,  1691.,  1692.,\n",
       "        1693.,  1694.,  1695.,  1696.,  1697.,  1698.,  1699.,  1700.,\n",
       "        1701.,  1702.,  1703.,  1704.,  1705.,  1706.,  1707.,  1708.,\n",
       "        1709.,  1710.,  1711.,  1712.,  1713.,  1714.,  1715.,  1716.,\n",
       "        1717.,  1718.,  1719.,  1720.,  1721.,  1722.,  1723.,  1724.,\n",
       "        1725.,  1726.,  1727.,  1728.,  1729.,  1730.,  1731.,  1732.,\n",
       "        1733.,  1734.,  1735.,  1736.,  1737.,  1738.,  1739.,  1740.,\n",
       "        1741.,  1742.,  1743.,  1744.,  1745.,  1746.,  1747.,  1748.,\n",
       "        1749.,  1750.,  1751.,  1752.,  1753.,  1754.,  1755.,  1756.,\n",
       "        1757.,  1758.,  1759.,  1760.,  1761.,  1762.,  1763.,  1764.,\n",
       "        1765.,  1766.,  1767.,  1768.,  1769.,  1770.,  1771.,  1772.,\n",
       "        1773.,  1774.,  1775.,  1776.,  1777.,  1778.,  1779.,  1780.,\n",
       "        1781.,  1782.,  1783.,  1784.,  1785.,  1786.,  1787.,  1788.,\n",
       "        1789.,  1790.,  1791.,  1792.,  1793.,  1794.,  1795.,  1796.,\n",
       "        1797.,  1798.,  1799.,  1800.,  1801.,  1802.,  1803.,  1804.,\n",
       "        1805.,  1806.,  1807.,  1808.,  1809.,  1810.,  1811.,  1812.,\n",
       "        1813.,  1814.,  1815.,  1816.,  1817.,  1818.,  1819.,  1820.,\n",
       "        1821.,  1822.,  1823.,  1824.,  1825.,  1826.,  1827.,  1828.,\n",
       "        1829.,  1830.,  1831.,  1832.,  1833.,  1834.,  1835.,  1836.,\n",
       "        1837.,  1838.,  1839.,  1840.,  1841.,  1842.,  1843.,  1844.,\n",
       "        1845.,  1846.,  1847.,  1848.,  1849.,  1850.,  1851.,  1852.,\n",
       "        1853.,  1854.,  1855.,  1856.,  1857.,  1858.,  1859.,  1860.,\n",
       "        1861.,  1862.,  1863.,  1864.,  1865.,  1866.,  1867.,  1868.,\n",
       "        1869.,  1870.,  1871.,  1872.,  1873.,  1874.,  1875.,  1876.,\n",
       "        1877.,  1878.,  1879.,  1880.,  1881.,  1882.,  1883.,  1884.,\n",
       "        1885.,  1886.,  1887.,  1888.,  1889.,  1890.,  1891.,  1892.,\n",
       "        1893.,  1894.,  1895.,  1896.,  1897.,  1898.,  1899.,  1900.,\n",
       "        1901.,  1902.,  1903.,  1904.,  1905.,  1906.,  1907.,  1908.,\n",
       "        1909.,  1910.,  1911.,  1912.,  1913.,  1914.,  1915.,  1916.,\n",
       "        1917.,  1918.,  1919.,  1920.,  1921.,  1922.,  1923.,  1924.,\n",
       "        1925.,  1926.,  1927.,  1928.,  1929.,  1930.,  1931.,  1932.,\n",
       "        1933.,  1934.,  1935.,  1936.,  1937.,  1938.,  1939.,  1940.,\n",
       "        1941.,  1942.,  1943.,  1944.,  1945.,  1946.,  1947.,  1948.,\n",
       "        1949.,  1950.,  1951.,  1952.,  1953.,  1954.,  1955.,  1956.,\n",
       "        1957.,  1958.,  1959.,  1960.,  1961.,  1962.,  1963.,  1964.,\n",
       "        1965.,  1966.,  1967.,  1968.,  1969.,  1970.,  1971.,  1972.,\n",
       "        1973.,  1974.,  1975.,  1976.,  1977.,  1978.,  1979.,  1980.,\n",
       "        1981.,  1982.,  1983.,  1984.,  1985.,  1986.,  1987.,  1988.,\n",
       "        1989.,  1990.,  1991.,  1992.,  1993.,  1994.,  1995.,  1996.,\n",
       "        1997.,  1998.,  1999.,  2000.,  2001.,  2002.,  2003.,  2004.,\n",
       "        2005.,  2006.,  2007.,  2008.,  2009.,  2010.,  2011.,  2012.,\n",
       "        2013.,  2014.,  2015.,  2016.,  2017.,  2018.,  2019.,  2020.,\n",
       "        2021.,  2022.,  2023.,  2024.,  2025.,  2026.,  2027.,  2031.,\n",
       "        2033.,  2038.,  2041.,  2043.,  2044.,  2046.,  2051.,  2055.,\n",
       "        2061.,  2088.,  2099.,  2100.,  2101.,  2102.,  2103.,  2104.,\n",
       "        2105.,  2106.,  2107.,  2112.,  2114.,  2115.,  2116.,  2200.,\n",
       "        2202.,  2203.,    nan])"
      ]
     },
     "execution_count": 8,
     "metadata": {},
     "output_type": "execute_result"
    }
   ],
   "source": [
    "# What is the breakdown of years in the full df?\n",
    "years = UPW_df2.year.unique()\n",
    "np.sort(years)"
   ]
  },
  {
   "cell_type": "code",
   "execution_count": 9,
   "metadata": {
    "collapsed": false
   },
   "outputs": [
    {
     "ename": "NameError",
     "evalue": "name 'UPWsample2' is not defined",
     "output_type": "error",
     "traceback": [
      "\u001b[0;31m---------------------------------------------------------------------------\u001b[0m",
      "\u001b[0;31mNameError\u001b[0m                                 Traceback (most recent call last)",
      "\u001b[0;32m<ipython-input-9-8bf5d24014dc>\u001b[0m in \u001b[0;36m<module>\u001b[0;34m()\u001b[0m\n\u001b[1;32m      1\u001b[0m \u001b[0;31m# How many open_levels in the sample df?\u001b[0m\u001b[0;34m\u001b[0m\u001b[0;34m\u001b[0m\u001b[0m\n\u001b[0;32m----> 2\u001b[0;31m \u001b[0mUPWsample2\u001b[0m\u001b[0;34m.\u001b[0m\u001b[0mopen_level\u001b[0m\u001b[0;34m.\u001b[0m\u001b[0munique\u001b[0m\u001b[0;34m(\u001b[0m\u001b[0;34m)\u001b[0m\u001b[0;34m\u001b[0m\u001b[0m\n\u001b[0m",
      "\u001b[0;31mNameError\u001b[0m: name 'UPWsample2' is not defined"
     ]
    }
   ],
   "source": [
    "# How many open_levels in the sample df?\n",
    "UPWsample2.open_level.unique()"
   ]
  },
  {
   "cell_type": "code",
   "execution_count": 10,
   "metadata": {
    "collapsed": false
   },
   "outputs": [
    {
     "data": {
      "text/plain": [
       "6942"
      ]
     },
     "execution_count": 10,
     "metadata": {},
     "output_type": "execute_result"
    }
   ],
   "source": [
    "# How many years greater than 2017 in the full df?\n",
    "UPW_df2[UPW_df2.year > 2018].size"
   ]
  },
  {
   "cell_type": "code",
   "execution_count": 15,
   "metadata": {
    "collapsed": true
   },
   "outputs": [],
   "source": [
    "UPW_df2[UPW_df2.year > 2018].to_csv('PublicationYearOver2018.csv')"
   ]
  },
  {
   "cell_type": "code",
   "execution_count": 16,
   "metadata": {
    "collapsed": false
   },
   "outputs": [
    {
     "name": "stdout",
     "output_type": "stream",
     "text": [
      "Completed 210.2 KiB/210.2 KiB (1.2 MiB/s) with 1 file(s) remaining\r",
      "upload: ./PublicationYearOver2018.csv to s3://norlab-unpaywall/PublicationYearOver2018.csv\r\n"
     ]
    }
   ],
   "source": [
    "!aws s3 cp PublicationYearOver2018.csv s3://norlab-unpaywall/PublicationYearOver2018.csv"
   ]
  },
  {
   "cell_type": "code",
   "execution_count": 17,
   "metadata": {
    "collapsed": true
   },
   "outputs": [],
   "source": [
    "!rm PublicationYearOver2018.csv"
   ]
  },
  {
   "cell_type": "code",
   "execution_count": 11,
   "metadata": {
    "collapsed": false
   },
   "outputs": [
    {
     "data": {
      "text/plain": [
       "22698"
      ]
     },
     "execution_count": 11,
     "metadata": {},
     "output_type": "execute_result"
    }
   ],
   "source": [
    "# How many years equal 0 in the full df?\n",
    "UPW_df2[UPW_df2.year == 0].size"
   ]
  },
  {
   "cell_type": "code",
   "execution_count": 19,
   "metadata": {
    "collapsed": true
   },
   "outputs": [],
   "source": [
    "UPW_df2[UPW_df2.year == 0].to_csv('PublicationYear0.csv')"
   ]
  },
  {
   "cell_type": "code",
   "execution_count": 20,
   "metadata": {
    "collapsed": false
   },
   "outputs": [
    {
     "name": "stdout",
     "output_type": "stream",
     "text": [
      "upload: ./PublicationYear0.csv to s3://norlab-unpaywall/PublicationYear0.csv\n"
     ]
    }
   ],
   "source": [
    "!aws s3 cp PublicationYear0.csv s3://norlab-unpaywall/PublicationYear0.csv"
   ]
  },
  {
   "cell_type": "code",
   "execution_count": 21,
   "metadata": {
    "collapsed": true
   },
   "outputs": [],
   "source": [
    "!rm PublicationYear0.csv"
   ]
  },
  {
   "cell_type": "code",
   "execution_count": 12,
   "metadata": {
    "collapsed": false
   },
   "outputs": [
    {
     "data": {
      "text/plain": [
       "doi                        0\n",
       "evidence               30241\n",
       "best_open_url       73359559\n",
       "license             83780453\n",
       "oa_color                   0\n",
       "open_urls             347427\n",
       "year                 8635422\n",
       "title                3800364\n",
       "authors             15686509\n",
       "publication_type         787\n",
       "journal              4325580\n",
       "publisher              53898\n",
       "subjects            37474972\n",
       "dtype: int64"
      ]
     },
     "execution_count": 12,
     "metadata": {},
     "output_type": "execute_result"
    }
   ],
   "source": [
    "# Overview of null values in the full df\n",
    "UPW_df2.isnull().sum()"
   ]
  },
  {
   "cell_type": "code",
   "execution_count": 13,
   "metadata": {
    "collapsed": false
   },
   "outputs": [
    {
     "data": {
      "text/plain": [
       "oa_color\n",
       "black    73359559\n",
       "gold      6194764\n",
       "green     8196926\n",
       "dtype: int64"
      ]
     },
     "execution_count": 13,
     "metadata": {},
     "output_type": "execute_result"
    }
   ],
   "source": [
    "# Counts of each level in full df\n",
    "UPW_df2.groupby('oa_color').size()"
   ]
  },
  {
   "cell_type": "code",
   "execution_count": null,
   "metadata": {
    "collapsed": false
   },
   "outputs": [],
   "source": [
    "colors = ['black', 'gold', 'green']\n",
    "# Bar graph of DOI counts by open_level in the sample df\n",
    "UPWsample2[(UPWsample2.year > 1989) & (UPWsample2.year < 2017)].groupby(\n",
    "    ['year', 'oa_color'])['doi'].agg('count').unstack().plot(kind= 'bar', figsize=(16,8), color=colors)"
   ]
  },
  {
   "cell_type": "code",
   "execution_count": null,
   "metadata": {
    "collapsed": false
   },
   "outputs": [],
   "source": [
    "# Create an object that groups data by year and open_level\n",
    "open_yr = UPWsample2.groupby(['year', 'open_level'])\n",
    "# From the object count of dois\n",
    "# Show the first row\n",
    "open_yr['doi'].size().head(20)"
   ]
  },
  {
   "cell_type": "code",
   "execution_count": 14,
   "metadata": {
    "collapsed": false
   },
   "outputs": [
    {
     "data": {
      "text/plain": [
       "<matplotlib.axes._subplots.AxesSubplot at 0x7f47120a8898>"
      ]
     },
     "execution_count": 14,
     "metadata": {},
     "output_type": "execute_result"
    },
    {
     "name": "stderr",
     "output_type": "stream",
     "text": [
      "/home/ubuntu/anaconda3/lib/python3.6/site-packages/matplotlib/font_manager.py:1297: UserWarning: findfont: Font family ['sans-serif'] not found. Falling back to DejaVu Sans\n",
      "  (prop.get_family(), self.defaultFamily[fontext]))\n"
     ]
    },
    {
     "data": {
      "image/png": "[encoded data removed]",
      "text/plain": [
       "<matplotlib.figure.Figure at 0x7f471203f470>"
      ]
     },
     "metadata": {},
     "output_type": "display_data"
    }
   ],
   "source": [
    "colors = ['black', 'gold', 'green']\n",
    "# Bar graph of DOI counts by open_level in the full df\n",
    "UPW_df2[(UPW_df2.year > 1989) & (UPW_df2.year < 2017)].groupby(\n",
    "    ['year', 'oa_color'])['doi'].agg('count').unstack().plot(kind= 'bar', figsize=(16,8), color=colors)\n",
    "\n",
    "#plt.savefig('OpenLevelsBar2_1990to2016.png')"
   ]
  },
  {
   "cell_type": "code",
   "execution_count": null,
   "metadata": {
    "collapsed": false
   },
   "outputs": [],
   "source": [
    "!aws s3 cp OpenLevelsBar2_1990to2016.png s3://norlab-unpaywall/OpenLevelsBar2_1990to2016.png"
   ]
  },
  {
   "cell_type": "code",
   "execution_count": 15,
   "metadata": {
    "collapsed": false
   },
   "outputs": [
    {
     "data": {
      "text/plain": [
       "(array([ 1950.,  1960.,  1970.,  1980.,  1990.,  2000.,  2010.,  2020.]),\n",
       " <a list of 8 Text xticklabel objects>)"
      ]
     },
     "execution_count": 15,
     "metadata": {},
     "output_type": "execute_result"
    },
    {
     "name": "stderr",
     "output_type": "stream",
     "text": [
      "/home/ubuntu/anaconda3/lib/python3.6/site-packages/matplotlib/font_manager.py:1297: UserWarning: findfont: Font family ['sans-serif'] not found. Falling back to DejaVu Sans\n",
      "  (prop.get_family(), self.defaultFamily[fontext]))\n"
     ]
    },
    {
     "data": {
      "image/png": "[encoded data removed]",
      "text/plain": [
       "<matplotlib.figure.Figure at 0x7f4712038128>"
      ]
     },
     "metadata": {},
     "output_type": "display_data"
    }
   ],
   "source": [
    "colors = ['black', 'gold', 'green']\n",
    "UPW_df2[(UPW_df2.year > 1949) & (UPW_df2.year < 2017)].groupby(\n",
    "    ['year', 'oa_color'])['doi'].agg('count').unstack().plot(figsize=(16,8), color=colors)\n",
    "plt.xticks(rotation='vertical')\n",
    "\n",
    "#plt.savefig('OpenLevelsLine2_1950to2016.png')"
   ]
  },
  {
   "cell_type": "code",
   "execution_count": null,
   "metadata": {
    "collapsed": false
   },
   "outputs": [],
   "source": [
    "!aws s3 cp OpenLevelsLine2_1950to2016.png s3://norlab-unpaywall/OpenLevelsLine2_1950to2016.png"
   ]
  },
  {
   "cell_type": "code",
   "execution_count": null,
   "metadata": {
    "collapsed": false
   },
   "outputs": [],
   "source": [
    "# Create a table of open_level by year for sample df\n",
    "pd.pivot_table(UPWsample[UPWsample.year < 2018], index='year', \n",
    "               columns='open_level', values='doi', fill_value=0, aggfunc='count', margins=True)"
   ]
  },
  {
   "cell_type": "code",
   "execution_count": 16,
   "metadata": {
    "collapsed": false
   },
   "outputs": [
    {
     "data": {
      "text/html": [
       "<div>\n",
       "<table border=\"1\" class=\"dataframe\">\n",
       "  <thead>\n",
       "    <tr style=\"text-align: right;\">\n",
       "      <th>oa_color</th>\n",
       "      <th>black</th>\n",
       "      <th>gold</th>\n",
       "      <th>green</th>\n",
       "      <th>All</th>\n",
       "    </tr>\n",
       "    <tr>\n",
       "      <th>year</th>\n",
       "      <th></th>\n",
       "      <th></th>\n",
       "      <th></th>\n",
       "      <th></th>\n",
       "    </tr>\n",
       "  </thead>\n",
       "  <tbody>\n",
       "    <tr>\n",
       "      <th>0.0</th>\n",
       "      <td>1730.0</td>\n",
       "      <td>0.0</td>\n",
       "      <td>16.0</td>\n",
       "      <td>1746.0</td>\n",
       "    </tr>\n",
       "    <tr>\n",
       "      <th>1400.0</th>\n",
       "      <td>24.0</td>\n",
       "      <td>0.0</td>\n",
       "      <td>0.0</td>\n",
       "      <td>24.0</td>\n",
       "    </tr>\n",
       "    <tr>\n",
       "      <th>1411.0</th>\n",
       "      <td>1.0</td>\n",
       "      <td>0.0</td>\n",
       "      <td>0.0</td>\n",
       "      <td>1.0</td>\n",
       "    </tr>\n",
       "    <tr>\n",
       "      <th>1425.0</th>\n",
       "      <td>1.0</td>\n",
       "      <td>0.0</td>\n",
       "      <td>0.0</td>\n",
       "      <td>1.0</td>\n",
       "    </tr>\n",
       "    <tr>\n",
       "      <th>1450.0</th>\n",
       "      <td>2.0</td>\n",
       "      <td>0.0</td>\n",
       "      <td>0.0</td>\n",
       "      <td>2.0</td>\n",
       "    </tr>\n",
       "    <tr>\n",
       "      <th>1456.0</th>\n",
       "      <td>1.0</td>\n",
       "      <td>0.0</td>\n",
       "      <td>0.0</td>\n",
       "      <td>1.0</td>\n",
       "    </tr>\n",
       "    <tr>\n",
       "      <th>1459.0</th>\n",
       "      <td>1.0</td>\n",
       "      <td>0.0</td>\n",
       "      <td>0.0</td>\n",
       "      <td>1.0</td>\n",
       "    </tr>\n",
       "    <tr>\n",
       "      <th>1469.0</th>\n",
       "      <td>1.0</td>\n",
       "      <td>0.0</td>\n",
       "      <td>0.0</td>\n",
       "      <td>1.0</td>\n",
       "    </tr>\n",
       "    <tr>\n",
       "      <th>1472.0</th>\n",
       "      <td>1.0</td>\n",
       "      <td>0.0</td>\n",
       "      <td>0.0</td>\n",
       "      <td>1.0</td>\n",
       "    </tr>\n",
       "    <tr>\n",
       "      <th>1477.0</th>\n",
       "      <td>1.0</td>\n",
       "      <td>0.0</td>\n",
       "      <td>0.0</td>\n",
       "      <td>1.0</td>\n",
       "    </tr>\n",
       "    <tr>\n",
       "      <th>1478.0</th>\n",
       "      <td>1.0</td>\n",
       "      <td>0.0</td>\n",
       "      <td>0.0</td>\n",
       "      <td>1.0</td>\n",
       "    </tr>\n",
       "    <tr>\n",
       "      <th>1480.0</th>\n",
       "      <td>0.0</td>\n",
       "      <td>0.0</td>\n",
       "      <td>1.0</td>\n",
       "      <td>1.0</td>\n",
       "    </tr>\n",
       "    <tr>\n",
       "      <th>1483.0</th>\n",
       "      <td>0.0</td>\n",
       "      <td>0.0</td>\n",
       "      <td>1.0</td>\n",
       "      <td>1.0</td>\n",
       "    </tr>\n",
       "    <tr>\n",
       "      <th>1486.0</th>\n",
       "      <td>1.0</td>\n",
       "      <td>0.0</td>\n",
       "      <td>0.0</td>\n",
       "      <td>1.0</td>\n",
       "    </tr>\n",
       "    <tr>\n",
       "      <th>1487.0</th>\n",
       "      <td>1.0</td>\n",
       "      <td>0.0</td>\n",
       "      <td>0.0</td>\n",
       "      <td>1.0</td>\n",
       "    </tr>\n",
       "    <tr>\n",
       "      <th>1490.0</th>\n",
       "      <td>0.0</td>\n",
       "      <td>0.0</td>\n",
       "      <td>1.0</td>\n",
       "      <td>1.0</td>\n",
       "    </tr>\n",
       "    <tr>\n",
       "      <th>1491.0</th>\n",
       "      <td>0.0</td>\n",
       "      <td>0.0</td>\n",
       "      <td>1.0</td>\n",
       "      <td>1.0</td>\n",
       "    </tr>\n",
       "    <tr>\n",
       "      <th>1492.0</th>\n",
       "      <td>0.0</td>\n",
       "      <td>0.0</td>\n",
       "      <td>1.0</td>\n",
       "      <td>1.0</td>\n",
       "    </tr>\n",
       "    <tr>\n",
       "      <th>1496.0</th>\n",
       "      <td>1.0</td>\n",
       "      <td>0.0</td>\n",
       "      <td>0.0</td>\n",
       "      <td>1.0</td>\n",
       "    </tr>\n",
       "    <tr>\n",
       "      <th>1497.0</th>\n",
       "      <td>1.0</td>\n",
       "      <td>0.0</td>\n",
       "      <td>0.0</td>\n",
       "      <td>1.0</td>\n",
       "    </tr>\n",
       "    <tr>\n",
       "      <th>1499.0</th>\n",
       "      <td>2.0</td>\n",
       "      <td>0.0</td>\n",
       "      <td>0.0</td>\n",
       "      <td>2.0</td>\n",
       "    </tr>\n",
       "    <tr>\n",
       "      <th>1500.0</th>\n",
       "      <td>59.0</td>\n",
       "      <td>13.0</td>\n",
       "      <td>2.0</td>\n",
       "      <td>74.0</td>\n",
       "    </tr>\n",
       "    <tr>\n",
       "      <th>1506.0</th>\n",
       "      <td>1.0</td>\n",
       "      <td>0.0</td>\n",
       "      <td>0.0</td>\n",
       "      <td>1.0</td>\n",
       "    </tr>\n",
       "    <tr>\n",
       "      <th>1508.0</th>\n",
       "      <td>3.0</td>\n",
       "      <td>0.0</td>\n",
       "      <td>0.0</td>\n",
       "      <td>3.0</td>\n",
       "    </tr>\n",
       "    <tr>\n",
       "      <th>1513.0</th>\n",
       "      <td>3.0</td>\n",
       "      <td>0.0</td>\n",
       "      <td>0.0</td>\n",
       "      <td>3.0</td>\n",
       "    </tr>\n",
       "    <tr>\n",
       "      <th>1515.0</th>\n",
       "      <td>1.0</td>\n",
       "      <td>0.0</td>\n",
       "      <td>0.0</td>\n",
       "      <td>1.0</td>\n",
       "    </tr>\n",
       "    <tr>\n",
       "      <th>1518.0</th>\n",
       "      <td>1.0</td>\n",
       "      <td>0.0</td>\n",
       "      <td>0.0</td>\n",
       "      <td>1.0</td>\n",
       "    </tr>\n",
       "    <tr>\n",
       "      <th>1521.0</th>\n",
       "      <td>0.0</td>\n",
       "      <td>0.0</td>\n",
       "      <td>1.0</td>\n",
       "      <td>1.0</td>\n",
       "    </tr>\n",
       "    <tr>\n",
       "      <th>1523.0</th>\n",
       "      <td>6.0</td>\n",
       "      <td>0.0</td>\n",
       "      <td>0.0</td>\n",
       "      <td>6.0</td>\n",
       "    </tr>\n",
       "    <tr>\n",
       "      <th>1524.0</th>\n",
       "      <td>0.0</td>\n",
       "      <td>0.0</td>\n",
       "      <td>3.0</td>\n",
       "      <td>3.0</td>\n",
       "    </tr>\n",
       "    <tr>\n",
       "      <th>...</th>\n",
       "      <td>...</td>\n",
       "      <td>...</td>\n",
       "      <td>...</td>\n",
       "      <td>...</td>\n",
       "    </tr>\n",
       "    <tr>\n",
       "      <th>2026.0</th>\n",
       "      <td>0.0</td>\n",
       "      <td>1.0</td>\n",
       "      <td>0.0</td>\n",
       "      <td>1.0</td>\n",
       "    </tr>\n",
       "    <tr>\n",
       "      <th>2027.0</th>\n",
       "      <td>1.0</td>\n",
       "      <td>0.0</td>\n",
       "      <td>0.0</td>\n",
       "      <td>1.0</td>\n",
       "    </tr>\n",
       "    <tr>\n",
       "      <th>2031.0</th>\n",
       "      <td>23.0</td>\n",
       "      <td>0.0</td>\n",
       "      <td>0.0</td>\n",
       "      <td>23.0</td>\n",
       "    </tr>\n",
       "    <tr>\n",
       "      <th>2033.0</th>\n",
       "      <td>0.0</td>\n",
       "      <td>0.0</td>\n",
       "      <td>1.0</td>\n",
       "      <td>1.0</td>\n",
       "    </tr>\n",
       "    <tr>\n",
       "      <th>2038.0</th>\n",
       "      <td>0.0</td>\n",
       "      <td>3.0</td>\n",
       "      <td>0.0</td>\n",
       "      <td>3.0</td>\n",
       "    </tr>\n",
       "    <tr>\n",
       "      <th>2041.0</th>\n",
       "      <td>2.0</td>\n",
       "      <td>0.0</td>\n",
       "      <td>1.0</td>\n",
       "      <td>3.0</td>\n",
       "    </tr>\n",
       "    <tr>\n",
       "      <th>2043.0</th>\n",
       "      <td>1.0</td>\n",
       "      <td>0.0</td>\n",
       "      <td>0.0</td>\n",
       "      <td>1.0</td>\n",
       "    </tr>\n",
       "    <tr>\n",
       "      <th>2044.0</th>\n",
       "      <td>0.0</td>\n",
       "      <td>1.0</td>\n",
       "      <td>0.0</td>\n",
       "      <td>1.0</td>\n",
       "    </tr>\n",
       "    <tr>\n",
       "      <th>2046.0</th>\n",
       "      <td>0.0</td>\n",
       "      <td>0.0</td>\n",
       "      <td>1.0</td>\n",
       "      <td>1.0</td>\n",
       "    </tr>\n",
       "    <tr>\n",
       "      <th>2051.0</th>\n",
       "      <td>7.0</td>\n",
       "      <td>0.0</td>\n",
       "      <td>10.0</td>\n",
       "      <td>17.0</td>\n",
       "    </tr>\n",
       "    <tr>\n",
       "      <th>2055.0</th>\n",
       "      <td>1.0</td>\n",
       "      <td>0.0</td>\n",
       "      <td>0.0</td>\n",
       "      <td>1.0</td>\n",
       "    </tr>\n",
       "    <tr>\n",
       "      <th>2061.0</th>\n",
       "      <td>0.0</td>\n",
       "      <td>0.0</td>\n",
       "      <td>1.0</td>\n",
       "      <td>1.0</td>\n",
       "    </tr>\n",
       "    <tr>\n",
       "      <th>2088.0</th>\n",
       "      <td>21.0</td>\n",
       "      <td>0.0</td>\n",
       "      <td>1.0</td>\n",
       "      <td>22.0</td>\n",
       "    </tr>\n",
       "    <tr>\n",
       "      <th>2099.0</th>\n",
       "      <td>37.0</td>\n",
       "      <td>3.0</td>\n",
       "      <td>0.0</td>\n",
       "      <td>40.0</td>\n",
       "    </tr>\n",
       "    <tr>\n",
       "      <th>2100.0</th>\n",
       "      <td>24.0</td>\n",
       "      <td>5.0</td>\n",
       "      <td>0.0</td>\n",
       "      <td>29.0</td>\n",
       "    </tr>\n",
       "    <tr>\n",
       "      <th>2101.0</th>\n",
       "      <td>1.0</td>\n",
       "      <td>0.0</td>\n",
       "      <td>0.0</td>\n",
       "      <td>1.0</td>\n",
       "    </tr>\n",
       "    <tr>\n",
       "      <th>2102.0</th>\n",
       "      <td>0.0</td>\n",
       "      <td>1.0</td>\n",
       "      <td>0.0</td>\n",
       "      <td>1.0</td>\n",
       "    </tr>\n",
       "    <tr>\n",
       "      <th>2103.0</th>\n",
       "      <td>13.0</td>\n",
       "      <td>1.0</td>\n",
       "      <td>30.0</td>\n",
       "      <td>44.0</td>\n",
       "    </tr>\n",
       "    <tr>\n",
       "      <th>2104.0</th>\n",
       "      <td>11.0</td>\n",
       "      <td>0.0</td>\n",
       "      <td>3.0</td>\n",
       "      <td>14.0</td>\n",
       "    </tr>\n",
       "    <tr>\n",
       "      <th>2105.0</th>\n",
       "      <td>19.0</td>\n",
       "      <td>1.0</td>\n",
       "      <td>0.0</td>\n",
       "      <td>20.0</td>\n",
       "    </tr>\n",
       "    <tr>\n",
       "      <th>2106.0</th>\n",
       "      <td>26.0</td>\n",
       "      <td>0.0</td>\n",
       "      <td>1.0</td>\n",
       "      <td>27.0</td>\n",
       "    </tr>\n",
       "    <tr>\n",
       "      <th>2107.0</th>\n",
       "      <td>2.0</td>\n",
       "      <td>0.0</td>\n",
       "      <td>0.0</td>\n",
       "      <td>2.0</td>\n",
       "    </tr>\n",
       "    <tr>\n",
       "      <th>2112.0</th>\n",
       "      <td>8.0</td>\n",
       "      <td>31.0</td>\n",
       "      <td>0.0</td>\n",
       "      <td>39.0</td>\n",
       "    </tr>\n",
       "    <tr>\n",
       "      <th>2114.0</th>\n",
       "      <td>9.0</td>\n",
       "      <td>18.0</td>\n",
       "      <td>2.0</td>\n",
       "      <td>29.0</td>\n",
       "    </tr>\n",
       "    <tr>\n",
       "      <th>2115.0</th>\n",
       "      <td>9.0</td>\n",
       "      <td>15.0</td>\n",
       "      <td>0.0</td>\n",
       "      <td>24.0</td>\n",
       "    </tr>\n",
       "    <tr>\n",
       "      <th>2116.0</th>\n",
       "      <td>0.0</td>\n",
       "      <td>15.0</td>\n",
       "      <td>0.0</td>\n",
       "      <td>15.0</td>\n",
       "    </tr>\n",
       "    <tr>\n",
       "      <th>2200.0</th>\n",
       "      <td>0.0</td>\n",
       "      <td>1.0</td>\n",
       "      <td>0.0</td>\n",
       "      <td>1.0</td>\n",
       "    </tr>\n",
       "    <tr>\n",
       "      <th>2202.0</th>\n",
       "      <td>1.0</td>\n",
       "      <td>0.0</td>\n",
       "      <td>0.0</td>\n",
       "      <td>1.0</td>\n",
       "    </tr>\n",
       "    <tr>\n",
       "      <th>2203.0</th>\n",
       "      <td>0.0</td>\n",
       "      <td>20.0</td>\n",
       "      <td>0.0</td>\n",
       "      <td>20.0</td>\n",
       "    </tr>\n",
       "    <tr>\n",
       "      <th>All</th>\n",
       "      <td>67031335.0</td>\n",
       "      <td>4200272.0</td>\n",
       "      <td>7884220.0</td>\n",
       "      <td>79115827.0</td>\n",
       "    </tr>\n",
       "  </tbody>\n",
       "</table>\n",
       "<p>555 rows × 4 columns</p>\n",
       "</div>"
      ],
      "text/plain": [
       "oa_color       black       gold      green         All\n",
       "year                                                  \n",
       "0.0           1730.0        0.0       16.0      1746.0\n",
       "1400.0          24.0        0.0        0.0        24.0\n",
       "1411.0           1.0        0.0        0.0         1.0\n",
       "1425.0           1.0        0.0        0.0         1.0\n",
       "1450.0           2.0        0.0        0.0         2.0\n",
       "1456.0           1.0        0.0        0.0         1.0\n",
       "1459.0           1.0        0.0        0.0         1.0\n",
       "1469.0           1.0        0.0        0.0         1.0\n",
       "1472.0           1.0        0.0        0.0         1.0\n",
       "1477.0           1.0        0.0        0.0         1.0\n",
       "1478.0           1.0        0.0        0.0         1.0\n",
       "1480.0           0.0        0.0        1.0         1.0\n",
       "1483.0           0.0        0.0        1.0         1.0\n",
       "1486.0           1.0        0.0        0.0         1.0\n",
       "1487.0           1.0        0.0        0.0         1.0\n",
       "1490.0           0.0        0.0        1.0         1.0\n",
       "1491.0           0.0        0.0        1.0         1.0\n",
       "1492.0           0.0        0.0        1.0         1.0\n",
       "1496.0           1.0        0.0        0.0         1.0\n",
       "1497.0           1.0        0.0        0.0         1.0\n",
       "1499.0           2.0        0.0        0.0         2.0\n",
       "1500.0          59.0       13.0        2.0        74.0\n",
       "1506.0           1.0        0.0        0.0         1.0\n",
       "1508.0           3.0        0.0        0.0         3.0\n",
       "1513.0           3.0        0.0        0.0         3.0\n",
       "1515.0           1.0        0.0        0.0         1.0\n",
       "1518.0           1.0        0.0        0.0         1.0\n",
       "1521.0           0.0        0.0        1.0         1.0\n",
       "1523.0           6.0        0.0        0.0         6.0\n",
       "1524.0           0.0        0.0        3.0         3.0\n",
       "...              ...        ...        ...         ...\n",
       "2026.0           0.0        1.0        0.0         1.0\n",
       "2027.0           1.0        0.0        0.0         1.0\n",
       "2031.0          23.0        0.0        0.0        23.0\n",
       "2033.0           0.0        0.0        1.0         1.0\n",
       "2038.0           0.0        3.0        0.0         3.0\n",
       "2041.0           2.0        0.0        1.0         3.0\n",
       "2043.0           1.0        0.0        0.0         1.0\n",
       "2044.0           0.0        1.0        0.0         1.0\n",
       "2046.0           0.0        0.0        1.0         1.0\n",
       "2051.0           7.0        0.0       10.0        17.0\n",
       "2055.0           1.0        0.0        0.0         1.0\n",
       "2061.0           0.0        0.0        1.0         1.0\n",
       "2088.0          21.0        0.0        1.0        22.0\n",
       "2099.0          37.0        3.0        0.0        40.0\n",
       "2100.0          24.0        5.0        0.0        29.0\n",
       "2101.0           1.0        0.0        0.0         1.0\n",
       "2102.0           0.0        1.0        0.0         1.0\n",
       "2103.0          13.0        1.0       30.0        44.0\n",
       "2104.0          11.0        0.0        3.0        14.0\n",
       "2105.0          19.0        1.0        0.0        20.0\n",
       "2106.0          26.0        0.0        1.0        27.0\n",
       "2107.0           2.0        0.0        0.0         2.0\n",
       "2112.0           8.0       31.0        0.0        39.0\n",
       "2114.0           9.0       18.0        2.0        29.0\n",
       "2115.0           9.0       15.0        0.0        24.0\n",
       "2116.0           0.0       15.0        0.0        15.0\n",
       "2200.0           0.0        1.0        0.0         1.0\n",
       "2202.0           1.0        0.0        0.0         1.0\n",
       "2203.0           0.0       20.0        0.0        20.0\n",
       "All       67031335.0  4200272.0  7884220.0  79115827.0\n",
       "\n",
       "[555 rows x 4 columns]"
      ]
     },
     "execution_count": 16,
     "metadata": {},
     "output_type": "execute_result"
    }
   ],
   "source": [
    "# Create a table of open_level by year for full df\n",
    "YearLevelAgg2_df = pd.pivot_table(UPW_df2, \n",
    "                                 index='year', \n",
    "                                 columns='oa_color', \n",
    "                                 values='doi', \n",
    "                                 fill_value=0, \n",
    "                                 aggfunc='count', \n",
    "                                 margins=True)\n",
    "YearLevelAgg2_df"
   ]
  },
  {
   "cell_type": "code",
   "execution_count": null,
   "metadata": {
    "collapsed": true
   },
   "outputs": [],
   "source": [
    "YearLevelAgg2_df.to_csv('YearLevelAgg2.csv')"
   ]
  },
  {
   "cell_type": "code",
   "execution_count": null,
   "metadata": {
    "collapsed": false
   },
   "outputs": [],
   "source": [
    "!aws s3 cp YearLevelAgg2.csv s3://norlab-unpaywall/YearLevelAgg2.csv"
   ]
  },
  {
   "cell_type": "code",
   "execution_count": 17,
   "metadata": {
    "collapsed": false
   },
   "outputs": [
    {
     "data": {
      "text/html": [
       "<div>\n",
       "<table border=\"1\" class=\"dataframe\">\n",
       "  <thead>\n",
       "    <tr style=\"text-align: right;\">\n",
       "      <th>oa_color</th>\n",
       "      <th>black</th>\n",
       "      <th>gold</th>\n",
       "      <th>green</th>\n",
       "      <th>All</th>\n",
       "    </tr>\n",
       "    <tr>\n",
       "      <th>publisher</th>\n",
       "      <th></th>\n",
       "      <th></th>\n",
       "      <th></th>\n",
       "      <th></th>\n",
       "    </tr>\n",
       "  </thead>\n",
       "  <tbody>\n",
       "    <tr>\n",
       "      <th>027.7 Zeitschrift für Bibliothekskultur / Journal for Library Culture</th>\n",
       "      <td>0.0</td>\n",
       "      <td>7.0</td>\n",
       "      <td>0.0</td>\n",
       "      <td>7.0</td>\n",
       "    </tr>\n",
       "    <tr>\n",
       "      <th>027.7 Zeitschrift fĂźr Bibliothekskultur / Journal for Library Culture</th>\n",
       "      <td>0.0</td>\n",
       "      <td>2.0</td>\n",
       "      <td>0.0</td>\n",
       "      <td>2.0</td>\n",
       "    </tr>\n",
       "    <tr>\n",
       "      <th>21st Century COE Program</th>\n",
       "      <td>21.0</td>\n",
       "      <td>0.0</td>\n",
       "      <td>19.0</td>\n",
       "      <td>40.0</td>\n",
       "    </tr>\n",
       "    <tr>\n",
       "      <th>21st Century Political Science Association</th>\n",
       "      <td>390.0</td>\n",
       "      <td>0.0</td>\n",
       "      <td>0.0</td>\n",
       "      <td>390.0</td>\n",
       "    </tr>\n",
       "    <tr>\n",
       "      <th>4S go, s.r.o.</th>\n",
       "      <td>1.0</td>\n",
       "      <td>73.0</td>\n",
       "      <td>0.0</td>\n",
       "      <td>74.0</td>\n",
       "    </tr>\n",
       "    <tr>\n",
       "      <th>8872147 Canada, Inc.</th>\n",
       "      <td>170.0</td>\n",
       "      <td>0.0</td>\n",
       "      <td>8612.0</td>\n",
       "      <td>8782.0</td>\n",
       "    </tr>\n",
       "    <tr>\n",
       "      <th>:unav</th>\n",
       "      <td>1.0</td>\n",
       "      <td>0.0</td>\n",
       "      <td>0.0</td>\n",
       "      <td>1.0</td>\n",
       "    </tr>\n",
       "    <tr>\n",
       "      <th>; Technische Informationsbibliothek u. Universitätsbibliothek</th>\n",
       "      <td>0.0</td>\n",
       "      <td>1.0</td>\n",
       "      <td>0.0</td>\n",
       "      <td>1.0</td>\n",
       "    </tr>\n",
       "    <tr>\n",
       "      <th>A Continuum imprint</th>\n",
       "      <td>3.0</td>\n",
       "      <td>0.0</td>\n",
       "      <td>0.0</td>\n",
       "      <td>3.0</td>\n",
       "    </tr>\n",
       "    <tr>\n",
       "      <th>A Fundacao para o Desenvolvimento de Bauru (FunDeB)</th>\n",
       "      <td>23.0</td>\n",
       "      <td>116.0</td>\n",
       "      <td>27.0</td>\n",
       "      <td>166.0</td>\n",
       "    </tr>\n",
       "    <tr>\n",
       "      <th>A K Peters/CRC Press</th>\n",
       "      <td>39.0</td>\n",
       "      <td>0.0</td>\n",
       "      <td>3.0</td>\n",
       "      <td>42.0</td>\n",
       "    </tr>\n",
       "    <tr>\n",
       "      <th>A. &amp; C. Black,</th>\n",
       "      <td>1.0</td>\n",
       "      <td>0.0</td>\n",
       "      <td>0.0</td>\n",
       "      <td>1.0</td>\n",
       "    </tr>\n",
       "    <tr>\n",
       "      <th>A. I. Rosu Cultural Scientific Foundation (Fundatia cultural-stiintifica A. I. Rosu)</th>\n",
       "      <td>1.0</td>\n",
       "      <td>166.0</td>\n",
       "      <td>2.0</td>\n",
       "      <td>169.0</td>\n",
       "    </tr>\n",
       "    <tr>\n",
       "      <th>A. Joanin,</th>\n",
       "      <td>1.0</td>\n",
       "      <td>0.0</td>\n",
       "      <td>0.0</td>\n",
       "      <td>1.0</td>\n",
       "    </tr>\n",
       "    <tr>\n",
       "      <th>A. O. Moore &amp; co.,</th>\n",
       "      <td>1.0</td>\n",
       "      <td>0.0</td>\n",
       "      <td>0.0</td>\n",
       "      <td>1.0</td>\n",
       "    </tr>\n",
       "    <tr>\n",
       "      <th>A. Scheurlen,</th>\n",
       "      <td>1.0</td>\n",
       "      <td>0.0</td>\n",
       "      <td>0.0</td>\n",
       "      <td>1.0</td>\n",
       "    </tr>\n",
       "    <tr>\n",
       "      <th>AACE Corp (American Association of Clinical Endocrinologists)</th>\n",
       "      <td>3188.0</td>\n",
       "      <td>0.0</td>\n",
       "      <td>118.0</td>\n",
       "      <td>3306.0</td>\n",
       "    </tr>\n",
       "    <tr>\n",
       "      <th>AACN Publishing</th>\n",
       "      <td>2546.0</td>\n",
       "      <td>0.0</td>\n",
       "      <td>129.0</td>\n",
       "      <td>2675.0</td>\n",
       "    </tr>\n",
       "    <tr>\n",
       "      <th>AAPG/Datapages</th>\n",
       "      <td>129.0</td>\n",
       "      <td>0.0</td>\n",
       "      <td>0.0</td>\n",
       "      <td>129.0</td>\n",
       "    </tr>\n",
       "    <tr>\n",
       "      <th>AB Svensk Papperstidning</th>\n",
       "      <td>1633.0</td>\n",
       "      <td>0.0</td>\n",
       "      <td>121.0</td>\n",
       "      <td>1754.0</td>\n",
       "    </tr>\n",
       "    <tr>\n",
       "      <th>ABC Journals</th>\n",
       "      <td>17.0</td>\n",
       "      <td>0.0</td>\n",
       "      <td>152.0</td>\n",
       "      <td>169.0</td>\n",
       "    </tr>\n",
       "    <tr>\n",
       "      <th>ABCD Diabetes Care, Ltd.</th>\n",
       "      <td>35.0</td>\n",
       "      <td>0.0</td>\n",
       "      <td>140.0</td>\n",
       "      <td>175.0</td>\n",
       "    </tr>\n",
       "    <tr>\n",
       "      <th>ABEAT - Associacao Brasileira de Especialistas em Alta Tecnologia</th>\n",
       "      <td>203.0</td>\n",
       "      <td>0.0</td>\n",
       "      <td>8.0</td>\n",
       "      <td>211.0</td>\n",
       "    </tr>\n",
       "    <tr>\n",
       "      <th>ABEC Publicacoes</th>\n",
       "      <td>14.0</td>\n",
       "      <td>0.0</td>\n",
       "      <td>1.0</td>\n",
       "      <td>15.0</td>\n",
       "    </tr>\n",
       "    <tr>\n",
       "      <th>ABED - Associacao Brasileira de Educacao a Distancia</th>\n",
       "      <td>235.0</td>\n",
       "      <td>0.0</td>\n",
       "      <td>0.0</td>\n",
       "      <td>235.0</td>\n",
       "    </tr>\n",
       "    <tr>\n",
       "      <th>ABRACICON: Academia Brasileira de Ciencias Contabeis</th>\n",
       "      <td>241.0</td>\n",
       "      <td>0.0</td>\n",
       "      <td>141.0</td>\n",
       "      <td>382.0</td>\n",
       "    </tr>\n",
       "    <tr>\n",
       "      <th>ACCB Publishing</th>\n",
       "      <td>15.0</td>\n",
       "      <td>105.0</td>\n",
       "      <td>1.0</td>\n",
       "      <td>121.0</td>\n",
       "    </tr>\n",
       "    <tr>\n",
       "      <th>ACCEFYN - Academia Colombiana de Ciencias Exactas, Fisicas y Naturales</th>\n",
       "      <td>192.0</td>\n",
       "      <td>0.0</td>\n",
       "      <td>4.0</td>\n",
       "      <td>196.0</td>\n",
       "    </tr>\n",
       "    <tr>\n",
       "      <th>ACFE Indonesia Chapter</th>\n",
       "      <td>23.0</td>\n",
       "      <td>0.0</td>\n",
       "      <td>0.0</td>\n",
       "      <td>23.0</td>\n",
       "    </tr>\n",
       "    <tr>\n",
       "      <th>ACM</th>\n",
       "      <td>233.0</td>\n",
       "      <td>0.0</td>\n",
       "      <td>447.0</td>\n",
       "      <td>680.0</td>\n",
       "    </tr>\n",
       "    <tr>\n",
       "      <th>...</th>\n",
       "      <td>...</td>\n",
       "      <td>...</td>\n",
       "      <td>...</td>\n",
       "      <td>...</td>\n",
       "    </tr>\n",
       "    <tr>\n",
       "      <th>https://hal.inria.fr/cel-01090631/document</th>\n",
       "      <td>1.0</td>\n",
       "      <td>0.0</td>\n",
       "      <td>0.0</td>\n",
       "      <td>1.0</td>\n",
       "    </tr>\n",
       "    <tr>\n",
       "      <th>i-das</th>\n",
       "      <td>18.0</td>\n",
       "      <td>54.0</td>\n",
       "      <td>2.0</td>\n",
       "      <td>74.0</td>\n",
       "    </tr>\n",
       "    <tr>\n",
       "      <th>iSchools</th>\n",
       "      <td>263.0</td>\n",
       "      <td>0.0</td>\n",
       "      <td>85.0</td>\n",
       "      <td>348.0</td>\n",
       "    </tr>\n",
       "    <tr>\n",
       "      <th>mEDRA</th>\n",
       "      <td>47.0</td>\n",
       "      <td>0.0</td>\n",
       "      <td>1.0</td>\n",
       "      <td>48.0</td>\n",
       "    </tr>\n",
       "    <tr>\n",
       "      <th>n.n.</th>\n",
       "      <td>0.0</td>\n",
       "      <td>1.0</td>\n",
       "      <td>0.0</td>\n",
       "      <td>1.0</td>\n",
       "    </tr>\n",
       "    <tr>\n",
       "      <th>o-bib. Das offene Bibliotheksjournal / herausgegeben vom VDB</th>\n",
       "      <td>0.0</td>\n",
       "      <td>1.0</td>\n",
       "      <td>0.0</td>\n",
       "      <td>1.0</td>\n",
       "    </tr>\n",
       "    <tr>\n",
       "      <th>preprint</th>\n",
       "      <td>1.0</td>\n",
       "      <td>0.0</td>\n",
       "      <td>0.0</td>\n",
       "      <td>1.0</td>\n",
       "    </tr>\n",
       "    <tr>\n",
       "      <th>project baikal</th>\n",
       "      <td>3.0</td>\n",
       "      <td>0.0</td>\n",
       "      <td>7.0</td>\n",
       "      <td>10.0</td>\n",
       "    </tr>\n",
       "    <tr>\n",
       "      <th>querelles-net</th>\n",
       "      <td>0.0</td>\n",
       "      <td>227.0</td>\n",
       "      <td>0.0</td>\n",
       "      <td>227.0</td>\n",
       "    </tr>\n",
       "    <tr>\n",
       "      <th>re3data.org</th>\n",
       "      <td>0.0</td>\n",
       "      <td>3.0</td>\n",
       "      <td>0.0</td>\n",
       "      <td>3.0</td>\n",
       "    </tr>\n",
       "    <tr>\n",
       "      <th>s.n.,</th>\n",
       "      <td>2.0</td>\n",
       "      <td>0.0</td>\n",
       "      <td>1.0</td>\n",
       "      <td>3.0</td>\n",
       "    </tr>\n",
       "    <tr>\n",
       "      <th>sdvig press</th>\n",
       "      <td>22.0</td>\n",
       "      <td>0.0</td>\n",
       "      <td>0.0</td>\n",
       "      <td>22.0</td>\n",
       "    </tr>\n",
       "    <tr>\n",
       "      <th>sumtib. C. G. Hilscheri,</th>\n",
       "      <td>0.0</td>\n",
       "      <td>0.0</td>\n",
       "      <td>1.0</td>\n",
       "      <td>1.0</td>\n",
       "    </tr>\n",
       "    <tr>\n",
       "      <th>test</th>\n",
       "      <td>1.0</td>\n",
       "      <td>0.0</td>\n",
       "      <td>0.0</td>\n",
       "      <td>1.0</td>\n",
       "    </tr>\n",
       "    <tr>\n",
       "      <th>the Pasteur Institute of Iran</th>\n",
       "      <td>0.0</td>\n",
       "      <td>4.0</td>\n",
       "      <td>0.0</td>\n",
       "      <td>4.0</td>\n",
       "    </tr>\n",
       "    <tr>\n",
       "      <th>thinkBiotech, LLC</th>\n",
       "      <td>1074.0</td>\n",
       "      <td>0.0</td>\n",
       "      <td>3.0</td>\n",
       "      <td>1077.0</td>\n",
       "    </tr>\n",
       "    <tr>\n",
       "      <th>transcript Verlag</th>\n",
       "      <td>42.0</td>\n",
       "      <td>0.0</td>\n",
       "      <td>0.0</td>\n",
       "      <td>42.0</td>\n",
       "    </tr>\n",
       "    <tr>\n",
       "      <th>u-conferences.org /CSPS</th>\n",
       "      <td>0.0</td>\n",
       "      <td>1.0</td>\n",
       "      <td>0.0</td>\n",
       "      <td>1.0</td>\n",
       "    </tr>\n",
       "    <tr>\n",
       "      <th>university of toledo</th>\n",
       "      <td>1.0</td>\n",
       "      <td>0.0</td>\n",
       "      <td>0.0</td>\n",
       "      <td>1.0</td>\n",
       "    </tr>\n",
       "    <tr>\n",
       "      <th>vdf Hochschulverlag</th>\n",
       "      <td>0.0</td>\n",
       "      <td>1.0</td>\n",
       "      <td>0.0</td>\n",
       "      <td>1.0</td>\n",
       "    </tr>\n",
       "    <tr>\n",
       "      <th>verlag von Wilhelm Engelmann,</th>\n",
       "      <td>0.0</td>\n",
       "      <td>0.0</td>\n",
       "      <td>1.0</td>\n",
       "      <td>1.0</td>\n",
       "    </tr>\n",
       "    <tr>\n",
       "      <th>École française de Rome</th>\n",
       "      <td>22.0</td>\n",
       "      <td>0.0</td>\n",
       "      <td>5.0</td>\n",
       "      <td>27.0</td>\n",
       "    </tr>\n",
       "    <tr>\n",
       "      <th>Éditions OCDE</th>\n",
       "      <td>2890.0</td>\n",
       "      <td>0.0</td>\n",
       "      <td>5.0</td>\n",
       "      <td>2895.0</td>\n",
       "    </tr>\n",
       "    <tr>\n",
       "      <th>Éditions Universitaires Fribourg = Universitätsverlag Freiburg</th>\n",
       "      <td>0.0</td>\n",
       "      <td>1.0</td>\n",
       "      <td>0.0</td>\n",
       "      <td>1.0</td>\n",
       "    </tr>\n",
       "    <tr>\n",
       "      <th>Видавничо-поліграфічний центр НаУКМА</th>\n",
       "      <td>0.0</td>\n",
       "      <td>1.0</td>\n",
       "      <td>0.0</td>\n",
       "      <td>1.0</td>\n",
       "    </tr>\n",
       "    <tr>\n",
       "      <th>Издательство Уральского университета</th>\n",
       "      <td>1.0</td>\n",
       "      <td>0.0</td>\n",
       "      <td>0.0</td>\n",
       "      <td>1.0</td>\n",
       "    </tr>\n",
       "    <tr>\n",
       "      <th>Отделение гибридных моделирующих у управляющих систем в энергетике ИПМЭ НАН Украины</th>\n",
       "      <td>0.0</td>\n",
       "      <td>1.0</td>\n",
       "      <td>0.0</td>\n",
       "      <td>1.0</td>\n",
       "    </tr>\n",
       "    <tr>\n",
       "      <th>Самміт-книга</th>\n",
       "      <td>0.0</td>\n",
       "      <td>1.0</td>\n",
       "      <td>0.0</td>\n",
       "      <td>1.0</td>\n",
       "    </tr>\n",
       "    <tr>\n",
       "      <th>проект байкал</th>\n",
       "      <td>105.0</td>\n",
       "      <td>0.0</td>\n",
       "      <td>41.0</td>\n",
       "      <td>146.0</td>\n",
       "    </tr>\n",
       "    <tr>\n",
       "      <th>All</th>\n",
       "      <td>73321506.0</td>\n",
       "      <td>6188046.0</td>\n",
       "      <td>8187799.0</td>\n",
       "      <td>87697351.0</td>\n",
       "    </tr>\n",
       "  </tbody>\n",
       "</table>\n",
       "<p>7692 rows × 4 columns</p>\n",
       "</div>"
      ],
      "text/plain": [
       "oa_color                                                 black       gold  \\\n",
       "publisher                                                                   \n",
       "027.7 Zeitschrift für Bibliothekskultur / Journ...         0.0        7.0   \n",
       "027.7 Zeitschrift fĂźr Bibliothekskultur / Jour...         0.0        2.0   \n",
       "21st Century COE Program                                  21.0        0.0   \n",
       "21st Century Political Science Association               390.0        0.0   \n",
       "4S go, s.r.o.                                              1.0       73.0   \n",
       "8872147 Canada, Inc.                                     170.0        0.0   \n",
       ":unav                                                      1.0        0.0   \n",
       "; Technische Informationsbibliothek u. Universi...         0.0        1.0   \n",
       "A Continuum imprint                                        3.0        0.0   \n",
       "A Fundacao para o Desenvolvimento de Bauru (Fun...        23.0      116.0   \n",
       "A K Peters/CRC Press                                      39.0        0.0   \n",
       "A. & C. Black,                                             1.0        0.0   \n",
       "A. I. Rosu Cultural Scientific Foundation (Fund...         1.0      166.0   \n",
       "A. Joanin,                                                 1.0        0.0   \n",
       "A. O. Moore & co.,                                         1.0        0.0   \n",
       "A. Scheurlen,                                              1.0        0.0   \n",
       "AACE Corp (American Association of Clinical End...      3188.0        0.0   \n",
       "AACN Publishing                                         2546.0        0.0   \n",
       "AAPG/Datapages                                           129.0        0.0   \n",
       "AB Svensk Papperstidning                                1633.0        0.0   \n",
       "ABC Journals                                              17.0        0.0   \n",
       "ABCD Diabetes Care, Ltd.                                  35.0        0.0   \n",
       "ABEAT - Associacao Brasileira de Especialistas ...       203.0        0.0   \n",
       "ABEC Publicacoes                                          14.0        0.0   \n",
       "ABED - Associacao Brasileira de Educacao a Dist...       235.0        0.0   \n",
       "ABRACICON: Academia Brasileira de Ciencias Cont...       241.0        0.0   \n",
       "ACCB Publishing                                           15.0      105.0   \n",
       "ACCEFYN - Academia Colombiana de Ciencias Exact...       192.0        0.0   \n",
       "ACFE Indonesia Chapter                                    23.0        0.0   \n",
       "ACM                                                      233.0        0.0   \n",
       "...                                                        ...        ...   \n",
       "https://hal.inria.fr/cel-01090631/document                 1.0        0.0   \n",
       "i-das                                                     18.0       54.0   \n",
       "iSchools                                                 263.0        0.0   \n",
       "mEDRA                                                     47.0        0.0   \n",
       "n.n.                                                       0.0        1.0   \n",
       "o-bib. Das offene Bibliotheksjournal / herausge...         0.0        1.0   \n",
       "preprint                                                   1.0        0.0   \n",
       "project baikal                                             3.0        0.0   \n",
       "querelles-net                                              0.0      227.0   \n",
       "re3data.org                                                0.0        3.0   \n",
       "s.n.,                                                      2.0        0.0   \n",
       "sdvig press                                               22.0        0.0   \n",
       "sumtib. C. G. Hilscheri,                                   0.0        0.0   \n",
       "test                                                       1.0        0.0   \n",
       "the Pasteur Institute of Iran                              0.0        4.0   \n",
       "thinkBiotech, LLC                                       1074.0        0.0   \n",
       "transcript Verlag                                         42.0        0.0   \n",
       "u-conferences.org /CSPS                                    0.0        1.0   \n",
       "university of toledo                                       1.0        0.0   \n",
       "vdf Hochschulverlag                                        0.0        1.0   \n",
       "verlag von Wilhelm Engelmann,                              0.0        0.0   \n",
       "École française de Rome                                   22.0        0.0   \n",
       "Éditions OCDE                                           2890.0        0.0   \n",
       "Éditions Universitaires Fribourg = Universitäts...         0.0        1.0   \n",
       "Видавничо-поліграфічний центр НаУКМА                       0.0        1.0   \n",
       "Издательство Уральского университета                       1.0        0.0   \n",
       "Отделение гибридных моделирующих у управляющих ...         0.0        1.0   \n",
       "Самміт-книга                                               0.0        1.0   \n",
       "проект байкал                                            105.0        0.0   \n",
       "All                                                 73321506.0  6188046.0   \n",
       "\n",
       "oa_color                                                green         All  \n",
       "publisher                                                                  \n",
       "027.7 Zeitschrift für Bibliothekskultur / Journ...        0.0         7.0  \n",
       "027.7 Zeitschrift fĂźr Bibliothekskultur / Jour...        0.0         2.0  \n",
       "21st Century COE Program                                 19.0        40.0  \n",
       "21st Century Political Science Association                0.0       390.0  \n",
       "4S go, s.r.o.                                             0.0        74.0  \n",
       "8872147 Canada, Inc.                                   8612.0      8782.0  \n",
       ":unav                                                     0.0         1.0  \n",
       "; Technische Informationsbibliothek u. Universi...        0.0         1.0  \n",
       "A Continuum imprint                                       0.0         3.0  \n",
       "A Fundacao para o Desenvolvimento de Bauru (Fun...       27.0       166.0  \n",
       "A K Peters/CRC Press                                      3.0        42.0  \n",
       "A. & C. Black,                                            0.0         1.0  \n",
       "A. I. Rosu Cultural Scientific Foundation (Fund...        2.0       169.0  \n",
       "A. Joanin,                                                0.0         1.0  \n",
       "A. O. Moore & co.,                                        0.0         1.0  \n",
       "A. Scheurlen,                                             0.0         1.0  \n",
       "AACE Corp (American Association of Clinical End...      118.0      3306.0  \n",
       "AACN Publishing                                         129.0      2675.0  \n",
       "AAPG/Datapages                                            0.0       129.0  \n",
       "AB Svensk Papperstidning                                121.0      1754.0  \n",
       "ABC Journals                                            152.0       169.0  \n",
       "ABCD Diabetes Care, Ltd.                                140.0       175.0  \n",
       "ABEAT - Associacao Brasileira de Especialistas ...        8.0       211.0  \n",
       "ABEC Publicacoes                                          1.0        15.0  \n",
       "ABED - Associacao Brasileira de Educacao a Dist...        0.0       235.0  \n",
       "ABRACICON: Academia Brasileira de Ciencias Cont...      141.0       382.0  \n",
       "ACCB Publishing                                           1.0       121.0  \n",
       "ACCEFYN - Academia Colombiana de Ciencias Exact...        4.0       196.0  \n",
       "ACFE Indonesia Chapter                                    0.0        23.0  \n",
       "ACM                                                     447.0       680.0  \n",
       "...                                                       ...         ...  \n",
       "https://hal.inria.fr/cel-01090631/document                0.0         1.0  \n",
       "i-das                                                     2.0        74.0  \n",
       "iSchools                                                 85.0       348.0  \n",
       "mEDRA                                                     1.0        48.0  \n",
       "n.n.                                                      0.0         1.0  \n",
       "o-bib. Das offene Bibliotheksjournal / herausge...        0.0         1.0  \n",
       "preprint                                                  0.0         1.0  \n",
       "project baikal                                            7.0        10.0  \n",
       "querelles-net                                             0.0       227.0  \n",
       "re3data.org                                               0.0         3.0  \n",
       "s.n.,                                                     1.0         3.0  \n",
       "sdvig press                                               0.0        22.0  \n",
       "sumtib. C. G. Hilscheri,                                  1.0         1.0  \n",
       "test                                                      0.0         1.0  \n",
       "the Pasteur Institute of Iran                             0.0         4.0  \n",
       "thinkBiotech, LLC                                         3.0      1077.0  \n",
       "transcript Verlag                                         0.0        42.0  \n",
       "u-conferences.org /CSPS                                   0.0         1.0  \n",
       "university of toledo                                      0.0         1.0  \n",
       "vdf Hochschulverlag                                       0.0         1.0  \n",
       "verlag von Wilhelm Engelmann,                             1.0         1.0  \n",
       "École française de Rome                                   5.0        27.0  \n",
       "Éditions OCDE                                             5.0      2895.0  \n",
       "Éditions Universitaires Fribourg = Universitäts...        0.0         1.0  \n",
       "Видавничо-поліграфічний центр НаУКМА                      0.0         1.0  \n",
       "Издательство Уральского университета                      0.0         1.0  \n",
       "Отделение гибридных моделирующих у управляющих ...        0.0         1.0  \n",
       "Самміт-книга                                              0.0         1.0  \n",
       "проект байкал                                            41.0       146.0  \n",
       "All                                                 8187799.0  87697351.0  \n",
       "\n",
       "[7692 rows x 4 columns]"
      ]
     },
     "execution_count": 17,
     "metadata": {},
     "output_type": "execute_result"
    }
   ],
   "source": [
    "# Create a table of open_level by publisher for full df\n",
    "PublisherLevelAgg2_df = pd.pivot_table(UPW_df2, \n",
    "                                 index='publisher', \n",
    "                                 columns='oa_color', \n",
    "                                 values='doi', \n",
    "                                 fill_value=0, \n",
    "                                 aggfunc='count', \n",
    "                                 margins=True)\n",
    "PublisherLevelAgg2_df"
   ]
  },
  {
   "cell_type": "code",
   "execution_count": null,
   "metadata": {
    "collapsed": true
   },
   "outputs": [],
   "source": [
    "PublisherLevelAgg2_df.to_csv('PublisherLevelAgg2.csv')"
   ]
  },
  {
   "cell_type": "code",
   "execution_count": null,
   "metadata": {
    "collapsed": false
   },
   "outputs": [],
   "source": [
    "!aws s3 cp PublisherLevelAgg2.csv s3://norlab-unpaywall/PublisherLevelAgg2.csv"
   ]
  },
  {
   "cell_type": "code",
   "execution_count": 18,
   "metadata": {
    "collapsed": false
   },
   "outputs": [
    {
     "data": {
      "text/html": [
       "<div>\n",
       "<table border=\"1\" class=\"dataframe\">\n",
       "  <thead>\n",
       "    <tr style=\"text-align: right;\">\n",
       "      <th></th>\n",
       "      <th>oa_color</th>\n",
       "      <th>black</th>\n",
       "      <th>gold</th>\n",
       "      <th>green</th>\n",
       "      <th>All</th>\n",
       "    </tr>\n",
       "    <tr>\n",
       "      <th>publisher</th>\n",
       "      <th>year</th>\n",
       "      <th></th>\n",
       "      <th></th>\n",
       "      <th></th>\n",
       "      <th></th>\n",
       "    </tr>\n",
       "  </thead>\n",
       "  <tbody>\n",
       "    <tr>\n",
       "      <th rowspan=\"2\" valign=\"top\">027.7 Zeitschrift für Bibliothekskultur / Journal for Library Culture</th>\n",
       "      <th>2013.0</th>\n",
       "      <td>0.0</td>\n",
       "      <td>3.0</td>\n",
       "      <td>0.0</td>\n",
       "      <td>3.0</td>\n",
       "    </tr>\n",
       "    <tr>\n",
       "      <th>2015.0</th>\n",
       "      <td>0.0</td>\n",
       "      <td>4.0</td>\n",
       "      <td>0.0</td>\n",
       "      <td>4.0</td>\n",
       "    </tr>\n",
       "    <tr>\n",
       "      <th rowspan=\"2\" valign=\"top\">027.7 Zeitschrift fĂźr Bibliothekskultur / Journal for Library Culture</th>\n",
       "      <th>2014.0</th>\n",
       "      <td>0.0</td>\n",
       "      <td>1.0</td>\n",
       "      <td>0.0</td>\n",
       "      <td>1.0</td>\n",
       "    </tr>\n",
       "    <tr>\n",
       "      <th>2015.0</th>\n",
       "      <td>0.0</td>\n",
       "      <td>1.0</td>\n",
       "      <td>0.0</td>\n",
       "      <td>1.0</td>\n",
       "    </tr>\n",
       "    <tr>\n",
       "      <th rowspan=\"2\" valign=\"top\">21st Century COE Program</th>\n",
       "      <th>2008.0</th>\n",
       "      <td>7.0</td>\n",
       "      <td>0.0</td>\n",
       "      <td>12.0</td>\n",
       "      <td>19.0</td>\n",
       "    </tr>\n",
       "    <tr>\n",
       "      <th>2009.0</th>\n",
       "      <td>14.0</td>\n",
       "      <td>0.0</td>\n",
       "      <td>7.0</td>\n",
       "      <td>21.0</td>\n",
       "    </tr>\n",
       "    <tr>\n",
       "      <th rowspan=\"4\" valign=\"top\">21st Century Political Science Association</th>\n",
       "      <th>2007.0</th>\n",
       "      <td>42.0</td>\n",
       "      <td>0.0</td>\n",
       "      <td>0.0</td>\n",
       "      <td>42.0</td>\n",
       "    </tr>\n",
       "    <tr>\n",
       "      <th>2008.0</th>\n",
       "      <td>35.0</td>\n",
       "      <td>0.0</td>\n",
       "      <td>0.0</td>\n",
       "      <td>35.0</td>\n",
       "    </tr>\n",
       "    <tr>\n",
       "      <th>2009.0</th>\n",
       "      <td>55.0</td>\n",
       "      <td>0.0</td>\n",
       "      <td>0.0</td>\n",
       "      <td>55.0</td>\n",
       "    </tr>\n",
       "    <tr>\n",
       "      <th>2010.0</th>\n",
       "      <td>42.0</td>\n",
       "      <td>0.0</td>\n",
       "      <td>0.0</td>\n",
       "      <td>42.0</td>\n",
       "    </tr>\n",
       "  </tbody>\n",
       "</table>\n",
       "</div>"
      ],
      "text/plain": [
       "oa_color                                                   black  gold  green  \\\n",
       "publisher                                          year                         \n",
       "027.7 Zeitschrift für Bibliothekskultur / Journ... 2013.0    0.0   3.0    0.0   \n",
       "                                                   2015.0    0.0   4.0    0.0   \n",
       "027.7 Zeitschrift fĂźr Bibliothekskultur / Jour... 2014.0    0.0   1.0    0.0   \n",
       "                                                   2015.0    0.0   1.0    0.0   \n",
       "21st Century COE Program                           2008.0    7.0   0.0   12.0   \n",
       "                                                   2009.0   14.0   0.0    7.0   \n",
       "21st Century Political Science Association         2007.0   42.0   0.0    0.0   \n",
       "                                                   2008.0   35.0   0.0    0.0   \n",
       "                                                   2009.0   55.0   0.0    0.0   \n",
       "                                                   2010.0   42.0   0.0    0.0   \n",
       "\n",
       "oa_color                                                    All  \n",
       "publisher                                          year          \n",
       "027.7 Zeitschrift für Bibliothekskultur / Journ... 2013.0   3.0  \n",
       "                                                   2015.0   4.0  \n",
       "027.7 Zeitschrift fĂźr Bibliothekskultur / Jour... 2014.0   1.0  \n",
       "                                                   2015.0   1.0  \n",
       "21st Century COE Program                           2008.0  19.0  \n",
       "                                                   2009.0  21.0  \n",
       "21st Century Political Science Association         2007.0  42.0  \n",
       "                                                   2008.0  35.0  \n",
       "                                                   2009.0  55.0  \n",
       "                                                   2010.0  42.0  "
      ]
     },
     "execution_count": 18,
     "metadata": {},
     "output_type": "execute_result"
    }
   ],
   "source": [
    "# Create a table of open_level by publisher and year for full df\n",
    "PublisherYearLevelAgg2_df = pd.pivot_table(UPW_df2, \n",
    "                                 index=['publisher', 'year'], \n",
    "                                 columns='oa_color', \n",
    "                                 values='doi', \n",
    "                                 fill_value=0, \n",
    "                                 aggfunc='count', \n",
    "                                 margins=True)\n",
    "PublisherYearLevelAgg2_df.head(10)"
   ]
  },
  {
   "cell_type": "code",
   "execution_count": null,
   "metadata": {
    "collapsed": true
   },
   "outputs": [],
   "source": [
    "PublisherYearLevelAgg2_df.to_csv('PublisherYearLevelAgg2.csv')"
   ]
  },
  {
   "cell_type": "code",
   "execution_count": null,
   "metadata": {
    "collapsed": false
   },
   "outputs": [],
   "source": [
    "!aws s3 cp PublisherYearLevelAgg2.csv s3://norlab-unpaywall/PublisherYearLevelAgg2.csv"
   ]
  },
  {
   "cell_type": "code",
   "execution_count": 19,
   "metadata": {
    "collapsed": false
   },
   "outputs": [
    {
     "data": {
      "text/plain": [
       "array(['closed', 'oa repository (via BASE title and first author match)',\n",
       "       'oa repository (via pmcid lookup)',\n",
       "       'oa repository (via BASE doi match)',\n",
       "       'oa repository (via BASE title match)', nan,\n",
       "       'oa journal (via journal title in doaj)',\n",
       "       'hybrid journal (via crossref license)', 'manual',\n",
       "       'oa repository (via doi prefix)',\n",
       "       'oa repository (via datacite prefix)', 'hybrid manual',\n",
       "       'oa journal (via publisher name)'], dtype=object)"
      ]
     },
     "execution_count": 19,
     "metadata": {},
     "output_type": "execute_result"
    }
   ],
   "source": [
    "# What are the various categories for evidence?\n",
    "UPW_df2['evidence'].unique()"
   ]
  },
  {
   "cell_type": "code",
   "execution_count": 20,
   "metadata": {
    "collapsed": false
   },
   "outputs": [
    {
     "data": {
      "text/plain": [
       "array(['journal-article', nan,\n",
       "       'Journal of the American Medical Association',\n",
       "       'JAMA: The Journal of the American Medical Association', 'book',\n",
       "       'book-chapter', 'monograph', 'reference-book', 'reference-entry',\n",
       "       'journal-issue', 'dataset', 'journal', 'Q.J.R. Meteorol. Soc.',\n",
       "       'book-series', 'Materialwissenschaft und Werkstofftechnik',\n",
       "       'Lecture Notes in Computer Science', 'Internationaler Vertrieb',\n",
       "       'component', 'International Journal of Colorectal Disease',\n",
       "       'Theory and Decision', 'The Lancet', 'other',\n",
       "       'Journal of PeriAnesthesia Nursing', 'Rhizosphere', 'Wear',\n",
       "       'Journal of the American Pharmaceutical Association (Practical Pharmacy ed.)',\n",
       "       'The Cambridge Companion to American Judaism', 'book-track',\n",
       "       'book-section', 'The Journal of Economic History',\n",
       "       'The Assurance Magazine and Journal of the Institute of Actuaries',\n",
       "       'Chem. Eng. News', 'Chemical & Engineering News Archive',\n",
       "       'Journal of Chemical Education', 'J. Ind. Eng. Chem.',\n",
       "       'Water Resour. Res.', 'Journal of Geophysical Research',\n",
       "       'Journal of Abnormal Psychology',\n",
       "       'Journal of Consulting and Clinical Psychology',\n",
       "       'Journal of Counseling Psychology',\n",
       "       'Journal of Personality & Social Psychology', 'PsycCRITIQUES',\n",
       "       'Health Psychology', 'Psychoanalytic Psychology',\n",
       "       'Review of General Psychology', 'Psychological Assessment',\n",
       "       'Journal of Applied Psychology', 'History of Psychology',\n",
       "       'Canadian Journal of Behavioural Science / Revue canadienne des sciences du comportement',\n",
       "       'report', 'PsycEXTRA Dataset', 'Developmental Psychology',\n",
       "       'American Journal of Orthopsychiatry',\n",
       "       'Journal of Rural Mental Health', 'Gene Ther',\n",
       "       'Physical Chemistry Chemical Physics', 'Faraday Discuss.',\n",
       "       'proceedings-article',\n",
       "       'La Revue des Sciences de Gestion, Direction et Gestion',\n",
       "       'Gastroenterology', 'book-set', 'Psychother Psych Med',\n",
       "       'proceedings', 'Equity & Excellence in Education',\n",
       "       'Planning Outlook', 'Regional Studies', 'Religious Education',\n",
       "       'The Slow Learning Child',\n",
       "       'Journal of Early Childhood Teacher Education',\n",
       "       'Reading Psychology', 'Cambridge Journal of Education',\n",
       "       'Indonesia Circle. School of Oriental & African Studies. Newsletter',\n",
       "       'Educational Gerontology',\n",
       "       'NORA - Nordic Journal of Feminist and Gender Research',\n",
       "       'Textual Practice', 'Early Years',\n",
       "       'International Journal of Early Years Education',\n",
       "       'Reading & Writing Quarterly',\n",
       "       'Innovations in Education & Training International',\n",
       "       'Journal of Beliefs & Values',\n",
       "       'International Feminist Journal of Politics',\n",
       "       'Reading Research and Instruction', 'GNPN',\n",
       "       'Occupational Therapy In Health Care', 'The Astrophysical Journal',\n",
       "       'Botanical Gazette', 'The Old and New Testament Student',\n",
       "       'Journal of Aerosol Medicine', 'Telemedicine Journal',\n",
       "       'Health & Social Work',\n",
       "       'Monthly Notices of the Royal Astronomical Society',\n",
       "       'The Journal of Urology', 'Obstetrical & Gynecological Survey',\n",
       "       'Optometry and Vision Science',\n",
       "       'Journal of Neuropathology & Experimental Neurology',\n",
       "       'posted-content', 'Interlending & Document Supply', 'standard',\n",
       "       '2008 International Conference on Biocomputation, Bioinformatics, and Biomedical Technologies',\n",
       "       '2006 IEEE International Frequency Control Symposium and Exposition',\n",
       "       'Proceedings of 15th International Conference on Distributed Computing Systems',\n",
       "       '2010 IEEE 30th International Conference on Distributed Computing Systems',\n",
       "       'Second International Conference on the Digital Society',\n",
       "       '2004 IEEE International Conference on Systems, Man and Cybernetics (IEEE Cat. No.04CH37583)',\n",
       "       '2009 13th International Conference Information Visualisation',\n",
       "       'Proceedings of 1994 IEEE 21st International Conference on Plasma Sciences (ICOPS)',\n",
       "       'IEEE Conference Record - Abstracts. 1997 IEEE International Conference on Plasma Science',\n",
       "       'Transactions of the American Institute of Electrical Engineers',\n",
       "       'IEEE Transactions on Nuclear Science',\n",
       "       'Teaching Theology and Religion', 'Modern Theology', 'Addiction',\n",
       "       'Anaesthesia', 'British Journal of Dermatology',\n",
       "       'J Social Philosophy', 'The Heythrop Journal',\n",
       "       'The Howard Journal of Criminal Justice', 'Middle East Policy',\n",
       "       'The Sociological Quarterly', 'Risk Analysis',\n",
       "       'New Zealand Geographer', 'Journal of Petroleum Geology',\n",
       "       'J Law Med Ethics', 'Australian Veterinary Journal',\n",
       "       'J Am Water Resources Assoc', 'The Journal of Physiology',\n",
       "       'Journal of Sport Management', 'Science',\n",
       "       'Archives of Disease in Childhood',\n",
       "       'British Journal of Sports Medicine', 'BMJ',\n",
       "       'Postgraduate Medical Journal', 'book-part', 'interactions',\n",
       "       'ARS MEDICA Revista de Ciencias Médicas', 'dissertation', 'misc',\n",
       "       'Cadernos PROLAM/USP', 'Estilos Clín.', 'Lit. Soc.',\n",
       "       'Revista do Instituto de Estudos Brasileiros',\n",
       "       'Circulation Research',\n",
       "       'Information & Security: An International Journal', 'report-series',\n",
       "       'Novum Testamentum', 'Journal of Phenomenological Psychology',\n",
       "       'Pneuma', 'The Legal History Review', 'Exchange',\n",
       "       'Nederlands Archief voor Kerkgeschiedenis',\n",
       "       \"Samuel Beckett Today / Aujourd'hui\", 'Aftermaths of War',\n",
       "       'C56. ASSESSING OUTCOMES IN PULMONARY ARTERIAL HYPERTENSION',\n",
       "       'Clinical Pediatrics', 'Cornell Hospitality Quarterly',\n",
       "       'Cornell Hotel and Restaurant Administration Quarterly',\n",
       "       'Journal of Health and Social Behavior', 'Review & Expositor',\n",
       "       'Transactions of the Institute of Measurement and Control',\n",
       "       'Probation Journal', 'Management Communication Quarterly',\n",
       "       'Clinical and Applied Thrombosis/Hemostasis',\n",
       "       'Journal of Pastoral Care & Counseling: Advancing theory and professional practice through scholarly and reflective publications',\n",
       "       'Feminist Criminology', 'European Respiratory Journal',\n",
       "       'BMC Proceedings', 'http://isrctn.org/>',\n",
       "       'The British Journal of Psychiatry',\n",
       "       'Intestinal Failure and Rehabilitation',\n",
       "       'Biomedical Diagnostic Science',\n",
       "       'IS Management Handbook, 8th Edition',\n",
       "       'ASPA Series in Public Administration and Public Policy',\n",
       "       'Crustacean Issues', 'Emerging Markets',\n",
       "       'Proceedings of the Seventh International Conference on the Foundations of Computer-Aided Process Design',\n",
       "       'Nutritional Assessment of Athletes, Second Edition',\n",
       "       'Community Disaster Recovery and Resiliency',\n",
       "       'Key Transitions in Animal Evolution', 'Unsaturated Soils',\n",
       "       'Nutrient Management for Energy Efficiency', 'Nanoporous Materials',\n",
       "       'Recruiting Women to Information Technology across Cultures and Continents',\n",
       "       'Methods and Techniques',\n",
       "       'Advances in Web-based GIS, Mapping Services and Applications',\n",
       "       'Process Software and Digital Networks, Fourth Edition',\n",
       "       'Insect Bioecology and Nutrition for Integrated Pest Management',\n",
       "       'Territorial Heritage and Development',\n",
       "       'Echinoderms in a Changing World',\n",
       "       'Constitutive Models for Rubber VIII', 'Urban Remote Sensing',\n",
       "       'Biology and Culture of Asian Seabass Lates Calcarifer',\n",
       "       'Modern Language Quarterly', 'Theater',\n",
       "       'GBM Annual Fall meeting Halle 2002',\n",
       "       'Medicine & Science in Sports & Exercise', 'Journal of Russian Law',\n",
       "       'Biblica et Patristica Thoruniensia',\n",
       "       'Karadeniz Arastirmalari Merkezi', 'LV', 'Av. Psicol. Latinoam.',\n",
       "       'Environmental Health Perspectives',\n",
       "       'The Journal of Literature and Science',\n",
       "       'Journal of Literature and Science',\n",
       "       'DEMETRA: Alimentação, Nutrição & Saúde', 'DeP',\n",
       "       'Occupational Therapy In Hlth. Care',\n",
       "       'Cataloging & Classification Quarterly',\n",
       "       \"Children's Literature Association Quarterly\",\n",
       "       \"Journal of Women's History\", 'The Missouri Review',\n",
       "       'Modernism/modernity', 'Southwestern Historical Quarterly',\n",
       "       'William Carlos Williams Review',\n",
       "       'West Virginia History: A Journal of Regional Studies',\n",
       "       'Imaging and Applied Optics',\n",
       "       'Nonlinear Guided Waves and Their Applications',\n",
       "       'Optical Fiber Communication Conference', 'PLoS ONE',\n",
       "       'Mar greco-latino',\n",
       "       'De ayer a hoy: influencias clásicas en la literatura',\n",
       "       'Official Bulletin of the National Dental Association',\n",
       "       'Australian Journal of Teacher Education',\n",
       "       'Journal of Evolution of Medical and Dental Sciences',\n",
       "       'Archiv für Reformationsgeschichte',\n",
       "       'Archiv für Reformationsgeschichte - Archive for Reformation History',\n",
       "       'Journal of Law and Jurisprudence', 'El Hilo de la Fabula',\n",
       "       'MONITORING', \"Amazon's Research and Environmental Law\", 'NJH',\n",
       "       '10.14746/cbes', \"Chronique d'Egypte\",\n",
       "       'Ankara Üniversitesi Hukuk Fakültesi Dergisi',\n",
       "       'İletişim: Araştırmaları Dergisi',\n",
       "       'Dokumente einer verdrängten Kontroverse',\n",
       "       'The Book of Ben Sira in Modern Research',\n",
       "       'The Anthropological Study of Education', 'Historical Syntax',\n",
       "       'Textualization of Oral Epics',\n",
       "       'The Trias of Maimonides / Die Trias des Maimonides',\n",
       "       'Women and War', 'Arbeit', 'Byzantinische Zeitschrift',\n",
       "       'Philologus', 'Zeitschrift für Anglistik und Amerikanistik',\n",
       "       'Altorientalische Forschungen', 'Historische Zeitschrift',\n",
       "       'Jahrbuch für Wirtschaftsgeschichte / Economic History Yearbook',\n",
       "       'Radiochimica Acta', 'Anthropology and Humanism', 'The Auk',\n",
       "       'Nineteenth-Century Literature', 'Nova Religio',\n",
       "       'Białostockie Studia Literaturoznawcze',\n",
       "       'Canadian Journal of Disability Studies',\n",
       "       'Revista Latinoamericana de Derechos Humanos',\n",
       "       'International Journal of Scientific Research',\n",
       "       'Engaged Scholar Journal: Community-Engaged Research, Teaching, and Learning',\n",
       "       'KHLJ', 'Kyung Hee Law Journal', 'Müvészettörténeti Értesitö',\n",
       "       'Encounters/Encuentros/Rencontres on Education', 'HumaNetten',\n",
       "       'HOLOS', 'prospect',\n",
       "       'Journal of Systems and Integrative Neuroscience',\n",
       "       'MedEdPORTAL Publications',\n",
       "       'Korean Association for Educational Information and Media',\n",
       "       'Cardiologia Croatica',\n",
       "       'Nordic Journal of Information Literacy in Higher Education',\n",
       "       'Tempo Social', 'História', 'Pro-Posições',\n",
       "       'Interface - Comunicação, Saúde, Educação',\n",
       "       'Sexualidad, Salud y Sociedad (Rio de Janeiro)', 'JKGA',\n",
       "       'Pynchon Notes', 'Journal of Tourism Sciences',\n",
       "       'Sibirskie istoricheskie issledovaniya',\n",
       "       'Journal of Educational Technology', 'Arctic and North', 'EONEOHAG',\n",
       "       'JMC', 'KSWST',\n",
       "       'Journal of Korean Society of Water Science and Technology',\n",
       "       'Journal of Chitin and Chitosan',\n",
       "       'Journal of International Social Research',\n",
       "       'THE DAEGU HISTORICAL REVIEW',\n",
       "       'Modern Studies in English Language & Literature',\n",
       "       'Partitúra Irodalomtudományi folyóirat',\n",
       "       'Revista de Estudos da Linguagem', 'Journal of Liver Cancer',\n",
       "       'Salud Colectiva', 'Revista Scripta Uniandrade', 'ijsrm',\n",
       "       'journal-volume', 'Sophia', 'Journal of Islamic Architecture',\n",
       "       'Journal of Applied Behavior Analysis',\n",
       "       'Gaziosmanpasa Universitesi Sosyal Bilimler Arastirmalari Dergisi',\n",
       "       'The Journal of Korea Real Estate Analysists Association',\n",
       "       'Revista Crítica Cultural',\n",
       "       'PEOPLE: International Journal of Social Sciences',\n",
       "       'Türkiye Halk Sağlığı Dergisi', 'REFLEXUS', 'SSW',\n",
       "       'Survey Research', 'Journal of Money & Finance',\n",
       "       'INTED2017 Proceedings', 'Journal of Marketing Studies',\n",
       "       'American Mineralogist', 'SSRN Journal', 'ARAM Periodical',\n",
       "       'Artha Vijnana: Journal of The Gokhale Institute of Politics and Economics',\n",
       "       'Inpharma Weekly', 'PharmacoEconomics & Outcomes News', 'CL',\n",
       "       'proc water environ fed', 'Revista Cientifica TECNIA',\n",
       "       'Journal of Criminal Law', 'AJ', 'Brood & Rozen',\n",
       "       'Handelingen der Maatschappij voor Geschiedenis en Oudheidkunde te Gent',\n",
       "       'Past Imperfect', \"Journal of Children's Literature and Education\",\n",
       "       'RM', 'Cuadernos de Teología', 'Canadian Journal of Communication',\n",
       "       'THE JOURNAL OF MODERN LITERARY THEORY',\n",
       "       'Studies in English Education',\n",
       "       'Zeitschrift für Praktische Philosophie', 'Glas Etnogr inst',\n",
       "       'Musicology',\n",
       "       'Journal of the American Institute of Criminal Law and Criminology',\n",
       "       'Economic Geography', 'Poetics Today',\n",
       "       'The American Political Science Review',\n",
       "       'The Far Eastern Quarterly', 'Comhar', 'Studies in Family Planning',\n",
       "       'Journal of Educational Sociology',\n",
       "       'The American Mathematical Monthly',\n",
       "       'Journal of the Royal Statistical Society',\n",
       "       'Sixteenth Century Journal', 'Harvard Journal of Asiatic Studies',\n",
       "       'The Journal of American History', 'The Journal of Negro Education',\n",
       "       'The Irish Review (Dublin)', 'Journal of Biblical Literature',\n",
       "       'The Musical Times and Singing Class Circular',\n",
       "       'Pacific Historical Review',\n",
       "       'Journal of Education for Library and Information Science',\n",
       "       'Studies in English Literature, 1500-1900',\n",
       "       'The Journal of American Folklore',\n",
       "       'Advanced Technology for Learning', 'Acta Dermato-Venereologica',\n",
       "       'Journal of Japan Institute of Light Metals',\n",
       "       'Proceedings of SPE Annual Technical Conference and Exhibition',\n",
       "       'Meridians: feminism, race, transnationalism', 'Modern Drama',\n",
       "       'Historical Reflections/Reflexions Historiques',\n",
       "       'The Journal of the Institute of Television Engineers of Japan',\n",
       "       'Experimental Biology and Medicine', 'FINANCIAL REPORTING',\n",
       "       'Education Sciences', 'RECIIS', \"L'antiquité classique\",\n",
       "       'Espaces Temps', 'Journal de la Société des Américanistes',\n",
       "       'Advances in Psychological Science', 'İkt. İşlt. Fin.',\n",
       "       'Africultures', 'Annales de géographie', \"Annuel de l'APF\",\n",
       "       'Revue archéologique',\n",
       "       \"Revue d'assyriologie et d'archéologie orientale\", 'Autrepart',\n",
       "       'Cahiers de PréAut', 'Les cahiers de médiologie',\n",
       "       \"Cahiers d'histoire de l'aluminium\",\n",
       "       'Les cahiers internationaux de psychologie sociale',\n",
       "       'Confluences Méditerranée', 'Champ psy',\n",
       "       \"Revue d'économie du développement\", 'Education et sociétés',\n",
       "       'Ethnologie française', 'Annales des Mines - Gérer et comprendre',\n",
       "       \"Le journal de l'école de Paris du management\", 'Le Carnet PSY',\n",
       "       'L Économie politique', 'Le Mouvement Social', 'Langage et société',\n",
       "       'Monde(s)', 'Multitudes', 'Politique africaine',\n",
       "       'Présence Africaine', \"La psychiatrie de l'enfant\",\n",
       "       \"Revue d'anthropologie des connaissances\", 'Revue du Nord',\n",
       "       'Recherches en psychanalyse', 'Revue française de psychanalyse',\n",
       "       'Revue française de sociologie',\n",
       "       \"Revue interdisciplinaire d'études juridiques\",\n",
       "       'Revue de philosophie économique', 'Les Tribunes de la santé',\n",
       "       \"Systèmes d'information & management\", \"Sociologie de l'Art\",\n",
       "       'Le Temps des médias', 'Mathematical Biosciences and Engineering',\n",
       "       'Recherche et pratiques pédagogiques en langues de spécialité - Cahiers de l APLIUT',\n",
       "       'pontourbe', 'SciVee', 'PRICM 6', 'Applied Mechanics and Materials',\n",
       "       'Key Engineering Materials', 'MSF', 'Estudios atacameños',\n",
       "       'HTS Teologiese Studies / Theological Studies',\n",
       "       'Indian Journal of Orthopaedics', 'Lung India',\n",
       "       'Indian J Radiol Imaging',\n",
       "       'Journal of Womens Health, Issues and Care', 'islec', 'JLTR',\n",
       "       'Verba Hispanica', 'Lagos Notes and Records', 'Rev Clin Med Fam',\n",
       "       'Routledge Historical Perspectives in Accounting',\n",
       "       'Mundos do Trabalho', 'Health Psychology Report', 'CSR',\n",
       "       'Sociological Research Online',\n",
       "       '5th Annual International Conference on Political Science, Sociology and International Relations (PSSIR 2015)',\n",
       "       'Revista Iberoamericana',\n",
       "       'Publicatio UEPG: Ciencias Humanas, Ciencias Sociais Aplicadas, Linguistica, Letras e Artes',\n",
       "       'Signótica', 'Escritos de Psicología / Psychological Writings',\n",
       "       'BHA', 'Revista Chilena de Terapia Ocupacional', 'Revista Letras',\n",
       "       'BMR', 'Acta Med Sal', 'EJLW', 'Academy of Management Proceedings',\n",
       "       'Asian Social Science',\n",
       "       'Athenea Digital. Revista de pensamiento e investigación social',\n",
       "       '2nd International Multidisciplinary Scientific Conference on Social Sciences and Arts SGEM2015',\n",
       "       'Religiöse Bewegungen als politische Akteure im Nahen Osten',\n",
       "       'Business Ethics Quarterly', 'Semiotics', 'Faith and Philosophy',\n",
       "       'Proceedings of the International Association for Business and Society',\n",
       "       'Philosophy Today', 'The Modern Schoolman',\n",
       "       'Journal of Human-Robot Interaction', 'Animus', 'Letras',\n",
       "       'Indian Journal of Clinical Anaesthesia',\n",
       "       'Ind. Jour. of Clin. and Exper. Ophth.',\n",
       "       'Jurnal Entomologi Indonesia', 'Cuizine', 'Culture & Society',\n",
       "       'Digithum', 'human',\n",
       "       'Zeitschrift der Savigny-Stiftung für Rechtsgeschichte. Germanistische Abteilung',\n",
       "       'Bildung und Erziehung', 'Geschichte in Köln',\n",
       "       'Journal of Turkish Studies',\n",
       "       'International Journal Of Turkish Literature Culture Education',\n",
       "       'History Studies International Journal Of History', 'hist',\n",
       "       'IOSR Journal of Computer Engineering',\n",
       "       'IOSR Journal of Dental and Medical Sciences'], dtype=object)"
      ]
     },
     "execution_count": 20,
     "metadata": {},
     "output_type": "execute_result"
    }
   ],
   "source": [
    "# What are the categories for publication_type\n",
    "UPW_df2['publication_type'].unique()"
   ]
  },
  {
   "cell_type": "code",
   "execution_count": 10,
   "metadata": {
    "collapsed": false
   },
   "outputs": [],
   "source": [
    "# Ferret out the rows in which publication_type is mis-read\n",
    "goodpubs = ['journal-article', 'nan', 'book', 'book-chapter', 'monograph', 'reference-book', 'reference-entry',\n",
    "           'journal-issue', 'dataset', 'journal', 'book-series', 'component', 'other', 'book-track', 'book-section', \n",
    "           'report', 'book-set', 'proceedings', 'proceedings-article', 'posted-content', 'standard', 'interactions',\n",
    "           'dissertation', 'misc', 'book-part', 'report-series', 'journal-volume']\n",
    "UPW_df2[~UPW_df2['publication_type'].isin(goodpubs)].to_csv('PublicationTypeMisReads.csv')"
   ]
  },
  {
   "cell_type": "code",
   "execution_count": 11,
   "metadata": {
    "collapsed": false
   },
   "outputs": [
    {
     "name": "stdout",
     "output_type": "stream",
     "text": [
      "upload: ./PublicationTypeMisReads.csv to s3://norlab-unpaywall/PublicationTypeMisReads.csv\n"
     ]
    }
   ],
   "source": [
    "!aws s3 cp PublicationTypeMisReads.csv s3://norlab-unpaywall/PublicationTypeMisReads.csv"
   ]
  },
  {
   "cell_type": "code",
   "execution_count": 12,
   "metadata": {
    "collapsed": true
   },
   "outputs": [],
   "source": [
    "!rm PublicationTypeMisReads.csv"
   ]
  },
  {
   "cell_type": "code",
   "execution_count": 21,
   "metadata": {
    "collapsed": false
   },
   "outputs": [
    {
     "data": {
      "text/plain": [
       "0    [\"Public Health, Environmental and Occupationa...\n",
       "1                                    [\"Medicine(all)\"]\n",
       "2                                    [\"Medicine(all)\"]\n",
       "3                                    [\"Medicine(all)\"]\n",
       "4                                    [\"Medicine(all)\"]\n",
       "Name: subjects, dtype: object"
      ]
     },
     "execution_count": 21,
     "metadata": {},
     "output_type": "execute_result"
    }
   ],
   "source": [
    "UPW_df2['subjects'].head(5)"
   ]
  },
  {
   "cell_type": "code",
   "execution_count": null,
   "metadata": {
    "collapsed": true
   },
   "outputs": [],
   "source": [
    "UPW_df2.to_csv('UPW_full2_df.csv')"
   ]
  },
  {
   "cell_type": "code",
   "execution_count": null,
   "metadata": {
    "collapsed": false
   },
   "outputs": [],
   "source": [
    "!aws s3 cp UPW_full2_df.csv s3://norlab-unpaywall/UPW_full2_df.csv"
   ]
  },
  {
   "cell_type": "code",
   "execution_count": null,
   "metadata": {
    "collapsed": false
   },
   "outputs": [],
   "source": [
    "!rm UPW_full2_df.csv"
   ]
  },
  {
   "cell_type": "code",
   "execution_count": 22,
   "metadata": {
    "collapsed": true
   },
   "outputs": [],
   "source": [
    "# Create a function to clean the subjects lists, create a counter, and output counts\n",
    "def CleanList(column):\n",
    "    list1 = []\n",
    "    list2 = []\n",
    "    list3 = []\n",
    "    list4 = []\n",
    "    list5 = []\n",
    "    column = column.replace(np.nan, '\"Unknown\"', regex=True)\n",
    "    column = column.astype(str)\n",
    "    column.replace(regex=True,inplace=True,to_replace=r'\\[',value=r'')\n",
    "    column.replace(regex=True,inplace=True,to_replace=r'\\]',value=r'')\n",
    "    list1 = column.tolist()\n",
    "    list2 = [i.replace(',',\"\") for i in list1]\n",
    "    list3 = [i.split('\\\" ',100) for i in list2]\n",
    "    list4 = [item for sublist in list3 for item in sublist]\n",
    "    list5 = [i.replace('\\\"',\"\") for i in list4]\n",
    "    counts = Counter(list5)\n",
    "    return counts"
   ]
  },
  {
   "cell_type": "code",
   "execution_count": 23,
   "metadata": {
    "collapsed": false
   },
   "outputs": [
    {
     "name": "stdout",
     "output_type": "stream",
     "text": [
      "CPU times: user 35.6 s, sys: 2.4 s, total: 38 s\n",
      "Wall time: 37.9 s\n"
     ]
    }
   ],
   "source": [
    "%%time\n",
    "# run all subjects matching open_level==gold through CleanList function\n",
    "goldcounts = CleanList(UPW_df2[UPW_df2.oa_color == 'gold']['subjects'])"
   ]
  },
  {
   "cell_type": "code",
   "execution_count": 24,
   "metadata": {
    "collapsed": false
   },
   "outputs": [
    {
     "name": "stdout",
     "output_type": "stream",
     "text": [
      "[('Unknown', 3631575), ('Medicine(all)', 395890), ('Biochemistry Genetics and Molecular Biology(all)', 252377), ('Agricultural and Biological Sciences(all)', 222309), ('Genetics', 132349), ('Molecular Biology', 130375), ('Cardiology and Cardiovascular Medicine', 105786), ('Public Health Environmental and Occupational Health', 103907), ('Applied Mathematics', 97977), ('Nuclear and High Energy Physics', 90975)]\n"
     ]
    }
   ],
   "source": [
    "print(goldcounts.most_common(10))"
   ]
  },
  {
   "cell_type": "code",
   "execution_count": null,
   "metadata": {
    "collapsed": false
   },
   "outputs": [],
   "source": [
    "w = csv.writer(open(\"goldcounts2.csv\", \"w\"))\n",
    "for key, val in goldcounts.items():\n",
    "    w.writerow([key, val])"
   ]
  },
  {
   "cell_type": "code",
   "execution_count": null,
   "metadata": {
    "collapsed": false
   },
   "outputs": [],
   "source": [
    "!aws s3 cp goldcounts2.csv s3://norlab-unpaywall/goldcounts2.csv"
   ]
  },
  {
   "cell_type": "code",
   "execution_count": 25,
   "metadata": {
    "collapsed": true
   },
   "outputs": [],
   "source": [
    "# run all subjects matching open_level==green through CleanList function\n",
    "greencounts = CleanList(UPW_df2[UPW_df2.oa_color == 'green']['subjects'])"
   ]
  },
  {
   "cell_type": "code",
   "execution_count": null,
   "metadata": {
    "collapsed": false
   },
   "outputs": [
    {
     "name": "stdout",
     "output_type": "stream",
     "text": [
      "[('Unknown', 2635988), ('Medicine(all)', 715978), ('Molecular Biology', 340755), ('Biochemistry', 257306), ('Cell Biology', 248669), ('Condensed Matter Physics', 208724), ('Infectious Diseases', 168800), ('General', 161597), ('Physiology', 156143), ('Physics and Astronomy(all)', 153015)]\n"
     ]
    }
   ],
   "source": [
    "print(greencounts.most_common(10))"
   ]
  },
  {
   "cell_type": "code",
   "execution_count": null,
   "metadata": {
    "collapsed": true
   },
   "outputs": [],
   "source": [
    "w = csv.writer(open(\"greencounts2.csv\", \"w\"))\n",
    "for key, val in greencounts.items():\n",
    "    w.writerow([key, val])"
   ]
  },
  {
   "cell_type": "code",
   "execution_count": null,
   "metadata": {
    "collapsed": false
   },
   "outputs": [],
   "source": [
    "!aws s3 cp greencounts2.csv s3://norlab-unpaywall/greencounts2.csv"
   ]
  },
  {
   "cell_type": "code",
   "execution_count": null,
   "metadata": {
    "collapsed": false
   },
   "outputs": [],
   "source": [
    "blackcounts = CleanList(UPW_df2[UPW_df2.oa_color == 'black']['subjects'])\n",
    "print(blackcounts.most_common(10))"
   ]
  },
  {
   "cell_type": "code",
   "execution_count": null,
   "metadata": {
    "collapsed": true
   },
   "outputs": [],
   "source": [
    "w = csv.writer(open(\"blackcounts2.csv\", \"w\"))\n",
    "for key, val in blackcounts.items():\n",
    "    w.writerow([key, val])"
   ]
  },
  {
   "cell_type": "code",
   "execution_count": null,
   "metadata": {
    "collapsed": false
   },
   "outputs": [],
   "source": [
    "!aws s3 cp blackcounts2.csv s3://norlab-unpaywall/blackcounts2.csv"
   ]
  },
  {
   "cell_type": "code",
   "execution_count": null,
   "metadata": {
    "collapsed": true
   },
   "outputs": [],
   "source": [
    "nineteen60s = UPW_df2[(UPW_df2.year > 1959) & (UPW_df2.year <1970)][['oa_color', 'subjects']]"
   ]
  },
  {
   "cell_type": "code",
   "execution_count": null,
   "metadata": {
    "collapsed": false
   },
   "outputs": [],
   "source": [
    "nineteen70s = UPW_df2[(UPW_df2.year > 1969) & (UPW_df2.year <1980)][['oa_color', 'subjects']]"
   ]
  },
  {
   "cell_type": "code",
   "execution_count": null,
   "metadata": {
    "collapsed": true
   },
   "outputs": [],
   "source": [
    "nineteen80s = UPW_df2[(UPW_df2.year > 1979) & (UPW_df2.year <1990)][['oa_color', 'subjects']]"
   ]
  },
  {
   "cell_type": "code",
   "execution_count": null,
   "metadata": {
    "collapsed": true
   },
   "outputs": [],
   "source": [
    "nineteen90s = UPW_df2[(UPW_df2.year > 1989) & (UPW_df2.year <2000)][['oa_color', 'subjects']]"
   ]
  },
  {
   "cell_type": "code",
   "execution_count": null,
   "metadata": {
    "collapsed": true
   },
   "outputs": [],
   "source": [
    "twenty00s = UPW_df2[(UPW_df2.year > 1999) & (UPW_df2.year <2010)][['oa_color', 'subjects']]"
   ]
  },
  {
   "cell_type": "code",
   "execution_count": null,
   "metadata": {
    "collapsed": true
   },
   "outputs": [],
   "source": [
    "twenty10s = UPW_df2[(UPW_df2.year > 2009) & (UPW_df2.year <2018)][['oa_color', 'subjects']]"
   ]
  },
  {
   "cell_type": "code",
   "execution_count": null,
   "metadata": {
    "collapsed": false
   },
   "outputs": [],
   "source": [
    "decades = [nineteen60s, nineteen70s, nineteen80s, nineteen90s, twenty00s, twenty10s]\n",
    "x = 1960\n",
    "for decade in decades:\n",
    "    \n",
    "    blackcounts = CleanList(decade[decade.oa_color == 'black']['subjects'])\n",
    "    goldcounts = CleanList(decade[decade.oa_color == 'gold']['subjects'])\n",
    "    greencounts = CleanList(decade[decade.oa_color == 'green']['subjects'])\n",
    "    \n",
    "    w = csv.writer(open(\"blackcounts2\"+str(x)+\".csv\", \"w\"))\n",
    "    for key, val in blackcounts.items():\n",
    "        w.writerow([key, val])\n",
    "        \n",
    "    w = csv.writer(open(\"goldcounts2\"+str(x)+\".csv\", \"w\"))\n",
    "    for key, val in goldcounts.items():\n",
    "        w.writerow([key, val])\n",
    "        \n",
    "    w = csv.writer(open(\"greencounts2\"+str(x)+\".csv\", \"w\"))\n",
    "    for key, val in greencounts.items():\n",
    "        w.writerow([key, val])\n",
    "        \n",
    "    x += 10"
   ]
  },
  {
   "cell_type": "code",
   "execution_count": null,
   "metadata": {
    "collapsed": false
   },
   "outputs": [],
   "source": [
    "!ls"
   ]
  },
  {
   "cell_type": "code",
   "execution_count": null,
   "metadata": {
    "collapsed": false
   },
   "outputs": [],
   "source": [
    "test = pd.read_csv('blackcounts21980.csv')\n",
    "test"
   ]
  },
  {
   "cell_type": "code",
   "execution_count": null,
   "metadata": {
    "collapsed": false
   },
   "outputs": [],
   "source": [
    "!aws s3 cp /home/ubuntu/Notebooks s3://norlab-unpaywall/ --recursive"
   ]
  },
  {
   "cell_type": "code",
   "execution_count": 23,
   "metadata": {
    "collapsed": false
   },
   "outputs": [
    {
     "name": "stdout",
     "output_type": "stream",
     "text": [
      "Completed 47.4 KiB/47.4 KiB (394.1 KiB/s) with 1 file(s) remaining\r",
      "upload: ./UnpaywallEDA2.ipynb to s3://norlab-unpaywall/UnpaywallEDA2.ipynb\r\n"
     ]
    }
   ],
   "source": [
    "!aws s3 cp UnpaywallEDA2.ipynb s3://norlab-unpaywall/UnpaywallEDA2.ipynb"
   ]
  }
 ],
 "metadata": {
  "kernelspec": {
   "display_name": "Python 3",
   "language": "python",
   "name": "python3"
  },
  "language_info": {
   "codemirror_mode": {
    "name": "ipython",
    "version": 3
   },
   "file_extension": ".py",
   "mimetype": "text/x-python",
   "name": "python",
   "nbconvert_exporter": "python",
   "pygments_lexer": "ipython3",
   "version": "3.6.0"
  }
 },
 "nbformat": 4,
 "nbformat_minor": 2
}
